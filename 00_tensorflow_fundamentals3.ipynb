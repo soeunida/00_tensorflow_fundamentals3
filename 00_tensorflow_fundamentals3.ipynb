{
 "cells": [
  {
   "cell_type": "markdown",
   "source": [
    "# 00_tensorflow_fundamentals.ipynb"
   ],
   "metadata": {}
  },
  {
   "cell_type": "code",
   "execution_count": 1,
   "source": [
    "import tensorflow as tf\r\n",
    "\r\n",
    "print(tf.__version__)"
   ],
   "outputs": [
    {
     "output_type": "stream",
     "name": "stdout",
     "text": [
      "2.6.0\n"
     ]
    }
   ],
   "metadata": {}
  },
  {
   "cell_type": "markdown",
   "source": [
    "## tensorflow : 데이터 전처리, 데이터 모델링, 모델 제공을 위한 오픈소스 머신 러닝 라이브러리\r\n",
    "\r\n"
   ],
   "metadata": {}
  },
  {
   "cell_type": "code",
   "execution_count": 2,
   "source": [
    "scalar = tf.constant(7)\r\n",
    "scalar"
   ],
   "outputs": [
    {
     "output_type": "execute_result",
     "data": {
      "text/plain": [
       "<tf.Tensor: shape=(), dtype=int32, numpy=7>"
      ]
     },
     "metadata": {},
     "execution_count": 2
    }
   ],
   "metadata": {}
  },
  {
   "cell_type": "code",
   "execution_count": 3,
   "source": [
    "scalar.ndim"
   ],
   "outputs": [
    {
     "output_type": "execute_result",
     "data": {
      "text/plain": [
       "0"
      ]
     },
     "metadata": {},
     "execution_count": 3
    }
   ],
   "metadata": {}
  },
  {
   "cell_type": "code",
   "execution_count": 4,
   "source": [
    "vector = tf.constant([10, 10])\r\n",
    "vector"
   ],
   "outputs": [
    {
     "output_type": "execute_result",
     "data": {
      "text/plain": [
       "<tf.Tensor: shape=(2,), dtype=int32, numpy=array([10, 10])>"
      ]
     },
     "metadata": {},
     "execution_count": 4
    }
   ],
   "metadata": {}
  },
  {
   "cell_type": "code",
   "execution_count": 7,
   "source": [
    "vector.ndim # ndim은 number of dimensions"
   ],
   "outputs": [
    {
     "output_type": "execute_result",
     "data": {
      "text/plain": [
       "1"
      ]
     },
     "metadata": {},
     "execution_count": 7
    }
   ],
   "metadata": {}
  },
  {
   "cell_type": "markdown",
   "source": [
    "## 일반적으로 tensorflow를 사용할 때 위에서처럼 직접 텐서를 만들지 않습니다. \r\n",
    "## Tensorflow에 내장된 모듈인 tf.io나 tf.data 가 데이터를 읽고 쓸 때 자동으로 데이터를\r\n",
    "## 텐서로 변환한 다음 나중에 신경망 모델에 적용 및 처리합니다."
   ],
   "metadata": {}
  },
  {
   "cell_type": "markdown",
   "source": [
    "## scalar (스칼라)는 rank가 0인 tensor! 왜냐하면 ndim이 0이라서 그렇습니다.\r\n",
    "## tensor는 dimension에 제한이 없다는 것이 중요합니다!"
   ],
   "metadata": {}
  },
  {
   "cell_type": "code",
   "execution_count": 9,
   "source": [
    "matrix = tf.constant(\r\n",
    "    [\r\n",
    "        [10, 7],\r\n",
    "        [7, 10]\r\n",
    "    ]\r\n",
    ")\r\n",
    "matrix"
   ],
   "outputs": [
    {
     "output_type": "execute_result",
     "data": {
      "text/plain": [
       "<tf.Tensor: shape=(2, 2), dtype=int32, numpy=\n",
       "array([[10,  7],\n",
       "       [ 7, 10]])>"
      ]
     },
     "metadata": {},
     "execution_count": 9
    }
   ],
   "metadata": {}
  },
  {
   "cell_type": "code",
   "execution_count": 10,
   "source": [
    "matrix.ndim"
   ],
   "outputs": [
    {
     "output_type": "execute_result",
     "data": {
      "text/plain": [
       "2"
      ]
     },
     "metadata": {},
     "execution_count": 10
    }
   ],
   "metadata": {}
  },
  {
   "cell_type": "code",
   "execution_count": 11,
   "source": [
    "matrix2 = tf.constant(\r\n",
    "    [\r\n",
    "        [10., 7.],\r\n",
    "        [7., 10.]\r\n",
    "    ]\r\n",
    ")\r\n",
    "matrix2"
   ],
   "outputs": [
    {
     "output_type": "execute_result",
     "data": {
      "text/plain": [
       "<tf.Tensor: shape=(2, 2), dtype=float32, numpy=\n",
       "array([[10.,  7.],\n",
       "       [ 7., 10.]], dtype=float32)>"
      ]
     },
     "metadata": {},
     "execution_count": 11
    }
   ],
   "metadata": {}
  },
  {
   "cell_type": "markdown",
   "source": [
    "## tensorflow는 기본적으로 tensor를 생성할 때, 자료형 (Datatype)을 int32나 float32로 설정합니다."
   ],
   "metadata": {}
  },
  {
   "cell_type": "code",
   "execution_count": 13,
   "source": [
    "another_matrix = tf.constant(\r\n",
    "    [\r\n",
    "        [10., 7.],\r\n",
    "        [3., 2.],\r\n",
    "        [8., 9.]\r\n",
    "    ],\r\n",
    "    dtype = tf.float16\r\n",
    ")\r\n",
    "another_matrix"
   ],
   "outputs": [
    {
     "output_type": "execute_result",
     "data": {
      "text/plain": [
       "<tf.Tensor: shape=(3, 2), dtype=float16, numpy=\n",
       "array([[10.,  7.],\n",
       "       [ 3.,  2.],\n",
       "       [ 8.,  9.]], dtype=float16)>"
      ]
     },
     "metadata": {},
     "execution_count": 13
    }
   ],
   "metadata": {}
  },
  {
   "cell_type": "code",
   "execution_count": 14,
   "source": [
    "another_matrix.ndim"
   ],
   "outputs": [
    {
     "output_type": "execute_result",
     "data": {
      "text/plain": [
       "2"
      ]
     },
     "metadata": {},
     "execution_count": 14
    }
   ],
   "metadata": {}
  },
  {
   "cell_type": "code",
   "execution_count": 15,
   "source": [
    "tensor = tf.constant([\r\n",
    "    [\r\n",
    "        [1, 2, 3],\r\n",
    "        [4, 5, 6]\r\n",
    "    ],\r\n",
    "    [\r\n",
    "        [7, 8, 9],\r\n",
    "        [10, 11, 12]\r\n",
    "    ],\r\n",
    "    [\r\n",
    "        [13, 14, 15],\r\n",
    "        [16, 17, 18]\r\n",
    "    ]\r\n",
    "])\r\n",
    "tensor"
   ],
   "outputs": [
    {
     "output_type": "execute_result",
     "data": {
      "text/plain": [
       "<tf.Tensor: shape=(3, 2, 3), dtype=int32, numpy=\n",
       "array([[[ 1,  2,  3],\n",
       "        [ 4,  5,  6]],\n",
       "\n",
       "       [[ 7,  8,  9],\n",
       "        [10, 11, 12]],\n",
       "\n",
       "       [[13, 14, 15],\n",
       "        [16, 17, 18]]])>"
      ]
     },
     "metadata": {},
     "execution_count": 15
    }
   ],
   "metadata": {}
  },
  {
   "cell_type": "code",
   "execution_count": 20,
   "source": [
    "tensor.ndim  # 2행 3열짜리 행렬이 3개가 있다! \r\n",
    "# rank가 3인 tensor!"
   ],
   "outputs": [
    {
     "output_type": "execute_result",
     "data": {
      "text/plain": [
       "3"
      ]
     },
     "metadata": {},
     "execution_count": 20
    }
   ],
   "metadata": {}
  },
  {
   "cell_type": "markdown",
   "source": [
    "## 위에서 굳이 scalar, vector, matrix, tensor 등등으로 구분해서 표현을 했지만\r\n",
    "## 기술적으로는 사실 위의 모든 것이 tensor입니다."
   ],
   "metadata": {}
  },
  {
   "cell_type": "code",
   "execution_count": 21,
   "source": [
    "changeable_tensor = tf.Variable([10, 7])\r\n",
    "unchangeable_tensor = tf.constant([10, 7])\r\n",
    "changeable_tensor, unchangeable_tensor"
   ],
   "outputs": [
    {
     "output_type": "execute_result",
     "data": {
      "text/plain": [
       "(<tf.Variable 'Variable:0' shape=(2,) dtype=int32, numpy=array([10,  7])>,\n",
       " <tf.Tensor: shape=(2,), dtype=int32, numpy=array([10,  7])>)"
      ]
     },
     "metadata": {},
     "execution_count": 21
    }
   ],
   "metadata": {}
  },
  {
   "cell_type": "code",
   "execution_count": 26,
   "source": [
    "changeable_tensor[0] = 7\r\n",
    "changeable_tensor"
   ],
   "outputs": [
    {
     "output_type": "error",
     "ename": "TypeError",
     "evalue": "'ResourceVariable' object does not support item assignment",
     "traceback": [
      "\u001b[1;31m---------------------------------------------------------------------------\u001b[0m",
      "\u001b[1;31mTypeError\u001b[0m                                 Traceback (most recent call last)",
      "\u001b[1;32m~\\AppData\\Local\\Temp/ipykernel_14200/4281976827.py\u001b[0m in \u001b[0;36m<module>\u001b[1;34m\u001b[0m\n\u001b[1;32m----> 1\u001b[1;33m \u001b[0mchangeable_tensor\u001b[0m\u001b[1;33m[\u001b[0m\u001b[1;36m0\u001b[0m\u001b[1;33m]\u001b[0m \u001b[1;33m=\u001b[0m \u001b[1;36m7\u001b[0m\u001b[1;33m\u001b[0m\u001b[1;33m\u001b[0m\u001b[0m\n\u001b[0m\u001b[0;32m      2\u001b[0m \u001b[0mchangeable_tensor\u001b[0m\u001b[1;33m\u001b[0m\u001b[1;33m\u001b[0m\u001b[0m\n",
      "\u001b[1;31mTypeError\u001b[0m: 'ResourceVariable' object does not support item assignment"
     ]
    }
   ],
   "metadata": {}
  },
  {
   "cell_type": "code",
   "execution_count": 27,
   "source": [
    "changeable_tensor[0].assign(7)\r\n",
    "changeable_tensor"
   ],
   "outputs": [
    {
     "output_type": "execute_result",
     "data": {
      "text/plain": [
       "<tf.Variable 'Variable:0' shape=(2,) dtype=int32, numpy=array([7, 7])>"
      ]
     },
     "metadata": {},
     "execution_count": 27
    }
   ],
   "metadata": {}
  },
  {
   "cell_type": "code",
   "execution_count": 28,
   "source": [
    "unchangeable_tensor[0].assign(7)\r\n",
    "unchangeable_tensor"
   ],
   "outputs": [
    {
     "output_type": "error",
     "ename": "AttributeError",
     "evalue": "'tensorflow.python.framework.ops.EagerTensor' object has no attribute 'assign'",
     "traceback": [
      "\u001b[1;31m---------------------------------------------------------------------------\u001b[0m",
      "\u001b[1;31mAttributeError\u001b[0m                            Traceback (most recent call last)",
      "\u001b[1;32m~\\AppData\\Local\\Temp/ipykernel_14200/1712840518.py\u001b[0m in \u001b[0;36m<module>\u001b[1;34m\u001b[0m\n\u001b[1;32m----> 1\u001b[1;33m \u001b[0munchangeable_tensor\u001b[0m\u001b[1;33m[\u001b[0m\u001b[1;36m0\u001b[0m\u001b[1;33m]\u001b[0m\u001b[1;33m.\u001b[0m\u001b[0massign\u001b[0m\u001b[1;33m(\u001b[0m\u001b[1;36m7\u001b[0m\u001b[1;33m)\u001b[0m\u001b[1;33m\u001b[0m\u001b[1;33m\u001b[0m\u001b[0m\n\u001b[0m\u001b[0;32m      2\u001b[0m \u001b[0munchangeable_tensor\u001b[0m\u001b[1;33m\u001b[0m\u001b[1;33m\u001b[0m\u001b[0m\n",
      "\u001b[1;32mc:\\workspace\\lecture_tensorflow\\venv\\lib\\site-packages\\tensorflow\\python\\framework\\ops.py\u001b[0m in \u001b[0;36m__getattr__\u001b[1;34m(self, name)\u001b[0m\n\u001b[0;32m    399\u001b[0m         \u001b[1;32mfrom\u001b[0m \u001b[0mtensorflow\u001b[0m\u001b[1;33m.\u001b[0m\u001b[0mpython\u001b[0m\u001b[1;33m.\u001b[0m\u001b[0mops\u001b[0m\u001b[1;33m.\u001b[0m\u001b[0mnumpy_ops\u001b[0m \u001b[1;32mimport\u001b[0m \u001b[0mnp_config\u001b[0m\u001b[1;33m\u001b[0m\u001b[1;33m\u001b[0m\u001b[0m\n\u001b[0;32m    400\u001b[0m         np_config.enable_numpy_behavior()\"\"\".format(type(self).__name__, name))\n\u001b[1;32m--> 401\u001b[1;33m     \u001b[0mself\u001b[0m\u001b[1;33m.\u001b[0m\u001b[0m__getattribute__\u001b[0m\u001b[1;33m(\u001b[0m\u001b[0mname\u001b[0m\u001b[1;33m)\u001b[0m\u001b[1;33m\u001b[0m\u001b[1;33m\u001b[0m\u001b[0m\n\u001b[0m\u001b[0;32m    402\u001b[0m \u001b[1;33m\u001b[0m\u001b[0m\n\u001b[0;32m    403\u001b[0m   \u001b[1;33m@\u001b[0m\u001b[0mstaticmethod\u001b[0m\u001b[1;33m\u001b[0m\u001b[1;33m\u001b[0m\u001b[0m\n",
      "\u001b[1;31mAttributeError\u001b[0m: 'tensorflow.python.framework.ops.EagerTensor' object has no attribute 'assign'"
     ]
    }
   ],
   "metadata": {}
  },
  {
   "cell_type": "markdown",
   "source": [
    "## tf.constant()을 사용해야 할지... tf.Variable()을 사용해야 할지...\r\n",
    "## 우리가 해결할 문제에 따라서 선택하면 되고, \r\n",
    "## 우리가 실제로 직접 tensor를 만들 경우는 없습니다. \r\n",
    "## 왜? tensorflow가 데이터를 불러오고, 모델링할 때 알아서 선택해 줍니다."
   ],
   "metadata": {}
  },
  {
   "cell_type": "code",
   "execution_count": 31,
   "source": [
    "random_1 = tf.random.Generator.from_seed(42) # np.random.seed(42)와 비슷\r\n",
    "random_1 = random_1.normal(shape=(3, 2))\r\n",
    "random_2 = tf.random.Generator.from_seed(42)\r\n",
    "random_2 = random_2.normal(shape=(3, 2))"
   ],
   "outputs": [],
   "metadata": {}
  },
  {
   "cell_type": "code",
   "execution_count": 32,
   "source": [
    "random_1, random_2, random_1 == random_2"
   ],
   "outputs": [
    {
     "output_type": "execute_result",
     "data": {
      "text/plain": [
       "(<tf.Tensor: shape=(3, 2), dtype=float32, numpy=\n",
       " array([[-0.7565803 , -0.06854702],\n",
       "        [ 0.07595026, -1.2573844 ],\n",
       "        [-0.23193763, -1.8107855 ]], dtype=float32)>,\n",
       " <tf.Tensor: shape=(3, 2), dtype=float32, numpy=\n",
       " array([[-0.7565803 , -0.06854702],\n",
       "        [ 0.07595026, -1.2573844 ],\n",
       "        [-0.23193763, -1.8107855 ]], dtype=float32)>,\n",
       " <tf.Tensor: shape=(3, 2), dtype=bool, numpy=\n",
       " array([[ True,  True],\n",
       "        [ True,  True],\n",
       "        [ True,  True]])>)"
      ]
     },
     "metadata": {},
     "execution_count": 32
    }
   ],
   "metadata": {}
  },
  {
   "cell_type": "code",
   "execution_count": 33,
   "source": [
    "random_3 = tf.random.Generator.from_seed(42)\r\n",
    "random_3 = random_3.normal(shape=(3, 2))\r\n",
    "random_4 = tf.random.Generator.from_seed(11)\r\n",
    "random_4 = random_4.normal(shape=(3, 2))"
   ],
   "outputs": [],
   "metadata": {}
  },
  {
   "cell_type": "code",
   "execution_count": 36,
   "source": [
    "random_3, random_4, random_3 == random_4"
   ],
   "outputs": [
    {
     "output_type": "execute_result",
     "data": {
      "text/plain": [
       "(<tf.Tensor: shape=(3, 2), dtype=float32, numpy=\n",
       " array([[-0.7565803 , -0.06854702],\n",
       "        [ 0.07595026, -1.2573844 ],\n",
       "        [-0.23193763, -1.8107855 ]], dtype=float32)>,\n",
       " <tf.Tensor: shape=(3, 2), dtype=float32, numpy=\n",
       " array([[ 0.27305737, -0.29925638],\n",
       "        [-0.3652325 ,  0.61883307],\n",
       "        [-1.0130816 ,  0.28291714]], dtype=float32)>,\n",
       " <tf.Tensor: shape=(3, 2), dtype=bool, numpy=\n",
       " array([[False, False],\n",
       "        [False, False],\n",
       "        [False, False]])>)"
      ]
     },
     "metadata": {},
     "execution_count": 36
    }
   ],
   "metadata": {}
  },
  {
   "cell_type": "markdown",
   "source": [
    "## 왜 shuffle을 해야하는지...\r\n",
    "## 딥러닝시 이미지가 15,000개가 있을 때, 처음에 10,000은 고양이\r\n",
    "## 그리고, 이어서 나머지 5,000은 개!\r\n",
    "## 이 순서대로 학습을 하게 된다면 신경망에 overfit을 유발시킬 수도 있습니다."
   ],
   "metadata": {}
  },
  {
   "cell_type": "code",
   "execution_count": 305,
   "source": [
    "not_shuffled = tf.constant([\r\n",
    "    [10, 7],\r\n",
    "    [3, 4],\r\n",
    "    [2, 5]\r\n",
    "])\r\n",
    "tf.random.shuffle(not_shuffled)"
   ],
   "outputs": [
    {
     "output_type": "execute_result",
     "data": {
      "text/plain": [
       "<tf.Tensor: shape=(3, 2), dtype=int32, numpy=\n",
       "array([[ 2,  5],\n",
       "       [ 3,  4],\n",
       "       [10,  7]])>"
      ]
     },
     "metadata": {},
     "execution_count": 305
    }
   ],
   "metadata": {}
  },
  {
   "cell_type": "code",
   "execution_count": 322,
   "source": [
    "tf.random.shuffle(not_shuffled, seed = 42)"
   ],
   "outputs": [
    {
     "output_type": "execute_result",
     "data": {
      "text/plain": [
       "<tf.Tensor: shape=(3, 2), dtype=int32, numpy=\n",
       "array([[ 3,  4],\n",
       "       [10,  7],\n",
       "       [ 2,  5]])>"
      ]
     },
     "metadata": {},
     "execution_count": 322
    }
   ],
   "metadata": {}
  },
  {
   "cell_type": "code",
   "execution_count": 226,
   "source": [
    "tf.random.set_seed(42)"
   ],
   "outputs": [],
   "metadata": {}
  },
  {
   "cell_type": "code",
   "execution_count": 390,
   "source": [
    "tf.random.shuffle(not_shuffled, seed=42)"
   ],
   "outputs": [
    {
     "output_type": "execute_result",
     "data": {
      "text/plain": [
       "<tf.Tensor: shape=(3, 2), dtype=int32, numpy=\n",
       "array([[ 3,  4],\n",
       "       [10,  7],\n",
       "       [ 2,  5]])>"
      ]
     },
     "metadata": {},
     "execution_count": 390
    }
   ],
   "metadata": {}
  },
  {
   "cell_type": "code",
   "execution_count": 436,
   "source": [
    "# tf.random.set_seed(42)\r\n",
    "\r\n",
    "tf.random.shuffle(not_shuffled)"
   ],
   "outputs": [
    {
     "output_type": "execute_result",
     "data": {
      "text/plain": [
       "<tf.Tensor: shape=(3, 2), dtype=int32, numpy=\n",
       "array([[ 3,  4],\n",
       "       [ 2,  5],\n",
       "       [10,  7]])>"
      ]
     },
     "metadata": {},
     "execution_count": 436
    }
   ],
   "metadata": {}
  },
  {
   "cell_type": "markdown",
   "source": [
    "![scalar-vector-matrix-tensor 비교](images/00-scalar-vector-matrix-tensor.png)"
   ],
   "metadata": {}
  },
  {
   "cell_type": "markdown",
   "source": [
    "## (224, 224, 3, 32)\r\n",
    "## 224, 224 (첫부분 2차원) : 픽셀 단위로 이미지의 높이 (height) 와 너비 (width)\r\n",
    "## 3 : 이미지의 컬러 채널 (RGB, Red Green Blue)\r\n",
    "## 32 : 배치 (Batch) 크기 -  1번에 신경망이 처리할 이미지의 갯수"
   ],
   "metadata": {}
  },
  {
   "cell_type": "code",
   "execution_count": 89,
   "source": [
    "tf.ones(shape = (3, 2))"
   ],
   "outputs": [
    {
     "output_type": "execute_result",
     "data": {
      "text/plain": [
       "<tf.Tensor: shape=(3, 2), dtype=float32, numpy=\n",
       "array([[1., 1.],\n",
       "       [1., 1.],\n",
       "       [1., 1.]], dtype=float32)>"
      ]
     },
     "metadata": {},
     "execution_count": 89
    }
   ],
   "metadata": {}
  },
  {
   "cell_type": "code",
   "execution_count": 91,
   "source": [
    "tf.zeros(shape = (3, 2))"
   ],
   "outputs": [
    {
     "output_type": "execute_result",
     "data": {
      "text/plain": [
       "<tf.Tensor: shape=(3, 2), dtype=float32, numpy=\n",
       "array([[0., 0.],\n",
       "       [0., 0.],\n",
       "       [0., 0.]], dtype=float32)>"
      ]
     },
     "metadata": {},
     "execution_count": 91
    }
   ],
   "metadata": {}
  },
  {
   "cell_type": "code",
   "execution_count": 94,
   "source": [
    "import numpy as np\r\n",
    "\r\n",
    "numpy_A = np.arange(1, 25, dtype=np.int32) # 24개\r\n",
    "A = tf.constant(numpy_A, shape=[2, 4, 3]) # 24 = 2 * 4 * 3\r\n",
    "\r\n",
    "numpy_A, A"
   ],
   "outputs": [
    {
     "output_type": "execute_result",
     "data": {
      "text/plain": [
       "(array([ 1,  2,  3,  4,  5,  6,  7,  8,  9, 10, 11, 12, 13, 14, 15, 16, 17,\n",
       "        18, 19, 20, 21, 22, 23, 24]),\n",
       " <tf.Tensor: shape=(2, 4, 3), dtype=int32, numpy=\n",
       " array([[[ 1,  2,  3],\n",
       "         [ 4,  5,  6],\n",
       "         [ 7,  8,  9],\n",
       "         [10, 11, 12]],\n",
       " \n",
       "        [[13, 14, 15],\n",
       "         [16, 17, 18],\n",
       "         [19, 20, 21],\n",
       "         [22, 23, 24]]])>)"
      ]
     },
     "metadata": {},
     "execution_count": 94
    }
   ],
   "metadata": {}
  },
  {
   "cell_type": "code",
   "execution_count": 95,
   "source": [
    "rank_4_tensor = tf.zeros([2, 3, 4, 5])\r\n",
    "rank_4_tensor"
   ],
   "outputs": [
    {
     "output_type": "execute_result",
     "data": {
      "text/plain": [
       "<tf.Tensor: shape=(2, 3, 4, 5), dtype=float32, numpy=\n",
       "array([[[[0., 0., 0., 0., 0.],\n",
       "         [0., 0., 0., 0., 0.],\n",
       "         [0., 0., 0., 0., 0.],\n",
       "         [0., 0., 0., 0., 0.]],\n",
       "\n",
       "        [[0., 0., 0., 0., 0.],\n",
       "         [0., 0., 0., 0., 0.],\n",
       "         [0., 0., 0., 0., 0.],\n",
       "         [0., 0., 0., 0., 0.]],\n",
       "\n",
       "        [[0., 0., 0., 0., 0.],\n",
       "         [0., 0., 0., 0., 0.],\n",
       "         [0., 0., 0., 0., 0.],\n",
       "         [0., 0., 0., 0., 0.]]],\n",
       "\n",
       "\n",
       "       [[[0., 0., 0., 0., 0.],\n",
       "         [0., 0., 0., 0., 0.],\n",
       "         [0., 0., 0., 0., 0.],\n",
       "         [0., 0., 0., 0., 0.]],\n",
       "\n",
       "        [[0., 0., 0., 0., 0.],\n",
       "         [0., 0., 0., 0., 0.],\n",
       "         [0., 0., 0., 0., 0.],\n",
       "         [0., 0., 0., 0., 0.]],\n",
       "\n",
       "        [[0., 0., 0., 0., 0.],\n",
       "         [0., 0., 0., 0., 0.],\n",
       "         [0., 0., 0., 0., 0.],\n",
       "         [0., 0., 0., 0., 0.]]]], dtype=float32)>"
      ]
     },
     "metadata": {},
     "execution_count": 95
    }
   ],
   "metadata": {}
  },
  {
   "cell_type": "code",
   "execution_count": 96,
   "source": [
    "rank_4_tensor.shape, rank_4_tensor.ndim, tf.size(rank_4_tensor)"
   ],
   "outputs": [
    {
     "output_type": "execute_result",
     "data": {
      "text/plain": [
       "(TensorShape([2, 3, 4, 5]), 4, <tf.Tensor: shape=(), dtype=int32, numpy=120>)"
      ]
     },
     "metadata": {},
     "execution_count": 96
    }
   ],
   "metadata": {}
  },
  {
   "cell_type": "markdown",
   "source": [
    "## tensor의 정보 (shape, rank, size)를 얻는 과정 \r\n",
    "## shape : tensor를 이루는 각각의 차원의 길이 (elements의 수)\r\n",
    "## Rank : tensor를 이루는 차원의 갯수 (scalar는 0 / vector는 1 / matrix는 2 / tensor는 n (number) )\r\n",
    "## Axis or Dimension : tensor의 특정 차원을 지칭\r\n",
    "## size : tensor를 이루는 items (elements의 갯수)"
   ],
   "metadata": {}
  },
  {
   "cell_type": "code",
   "execution_count": 101,
   "source": [
    "print(\"모든 elements의 자료형은 \", rank_4_tensor.dtype)\r\n",
    "print(\"차원의 갯수 (rank)는 \", rank_4_tensor.ndim)\r\n",
    "print(\"텐서의 shape는 \", rank_4_tensor.shape)\r\n",
    "print(\"텐서의 axis 0에 속하는 element들은 \", rank_4_tensor.shape[0])\r\n",
    "print(\"텐서의 axis 1에 속하는 element들은 \", rank_4_tensor.shape[1])\r\n",
    "print(\"텐서의 마지막 axis에 속하는 element들은 \", rank_4_tensor.shape[-1])\r\n",
    "print(\"모든 element의 갯수 (2 * 3 * 4 * 5)는 \", tf.size(rank_4_tensor).numpy())\r\n",
    "# numpy()를 사용한 이유는 tf.size가 결과를 tensor로 주기 때문에 이 tensor를 numpy array형태로 변환이 필요"
   ],
   "outputs": [
    {
     "output_type": "stream",
     "name": "stdout",
     "text": [
      "모든 elements의 자료형은  <dtype: 'float32'>\n",
      "차원의 갯수 (rank)는  4\n",
      "텐서의 shape는  (2, 3, 4, 5)\n",
      "텐서의 axis 0에 속하는 element들은  2\n",
      "텐서의 axis 1에 속하는 element들은  3\n",
      "텐서의 마지막 axis에 속하는 element들은  5\n",
      "모든 element의 갯수 (2 * 3 * 4 * 5)는  <class 'numpy.int32'>\n"
     ]
    }
   ],
   "metadata": {}
  },
  {
   "cell_type": "code",
   "execution_count": 102,
   "source": [
    "rank_4_tensor[:2, :2, :2, :2]"
   ],
   "outputs": [
    {
     "output_type": "execute_result",
     "data": {
      "text/plain": [
       "<tf.Tensor: shape=(2, 2, 2, 2), dtype=float32, numpy=\n",
       "array([[[[0., 0.],\n",
       "         [0., 0.]],\n",
       "\n",
       "        [[0., 0.],\n",
       "         [0., 0.]]],\n",
       "\n",
       "\n",
       "       [[[0., 0.],\n",
       "         [0., 0.]],\n",
       "\n",
       "        [[0., 0.],\n",
       "         [0., 0.]]]], dtype=float32)>"
      ]
     },
     "metadata": {},
     "execution_count": 102
    }
   ],
   "metadata": {}
  },
  {
   "cell_type": "code",
   "execution_count": 103,
   "source": [
    "rank_4_tensor[:1, :1, :1, :]"
   ],
   "outputs": [
    {
     "output_type": "execute_result",
     "data": {
      "text/plain": [
       "<tf.Tensor: shape=(1, 1, 1, 5), dtype=float32, numpy=array([[[[0., 0., 0., 0., 0.]]]], dtype=float32)>"
      ]
     },
     "metadata": {},
     "execution_count": 103
    }
   ],
   "metadata": {}
  },
  {
   "cell_type": "code",
   "execution_count": 113,
   "source": [
    "rank_2_tensor = tf.constant([\r\n",
    "    [10, 7],\r\n",
    "    [3, 4]\r\n",
    "])"
   ],
   "outputs": [],
   "metadata": {}
  },
  {
   "cell_type": "code",
   "execution_count": 114,
   "source": [
    "# 각 행의 마지막 elements를 출력\r\n",
    "rank_2_tensor[:, -2]"
   ],
   "outputs": [
    {
     "output_type": "execute_result",
     "data": {
      "text/plain": [
       "<tf.Tensor: shape=(2,), dtype=int32, numpy=array([10,  3])>"
      ]
     },
     "metadata": {},
     "execution_count": 114
    }
   ],
   "metadata": {}
  },
  {
   "cell_type": "code",
   "execution_count": 115,
   "source": [
    "rank_3_tensor = rank_2_tensor[..., tf.newaxis]\r\n",
    "rank_2_tensor, rank_2_tensor.ndim, rank_3_tensor, rank_3_tensor.ndim\r\n",
    "# 파이썬에서 ...는 기존에 존재하는 것은 모두 유지"
   ],
   "outputs": [
    {
     "output_type": "execute_result",
     "data": {
      "text/plain": [
       "(<tf.Tensor: shape=(2, 2), dtype=int32, numpy=\n",
       " array([[10,  7],\n",
       "        [ 3,  4]])>,\n",
       " 2,\n",
       " <tf.Tensor: shape=(2, 2, 1), dtype=int32, numpy=\n",
       " array([[[10],\n",
       "         [ 7]],\n",
       " \n",
       "        [[ 3],\n",
       "         [ 4]]])>,\n",
       " 3)"
      ]
     },
     "metadata": {},
     "execution_count": 115
    }
   ],
   "metadata": {}
  },
  {
   "cell_type": "code",
   "execution_count": 116,
   "source": [
    "tf.expand_dims(rank_2_tensor, axis = -1)\r\n",
    "# axis = -1 / 마지막 차원이라는 뜻"
   ],
   "outputs": [
    {
     "output_type": "execute_result",
     "data": {
      "text/plain": [
       "<tf.Tensor: shape=(2, 2, 1), dtype=int32, numpy=\n",
       "array([[[10],\n",
       "        [ 7]],\n",
       "\n",
       "       [[ 3],\n",
       "        [ 4]]])>"
      ]
     },
     "metadata": {},
     "execution_count": 116
    }
   ],
   "metadata": {}
  },
  {
   "cell_type": "code",
   "execution_count": 117,
   "source": [
    "tensor = tf.constant([\r\n",
    "    [10, 7],\r\n",
    "    [3, 4]\r\n",
    "])\r\n",
    "tensor + 10"
   ],
   "outputs": [
    {
     "output_type": "execute_result",
     "data": {
      "text/plain": [
       "<tf.Tensor: shape=(2, 2), dtype=int32, numpy=\n",
       "array([[20, 17],\n",
       "       [13, 14]])>"
      ]
     },
     "metadata": {},
     "execution_count": 117
    }
   ],
   "metadata": {}
  },
  {
   "cell_type": "code",
   "execution_count": 118,
   "source": [
    "tensor"
   ],
   "outputs": [
    {
     "output_type": "execute_result",
     "data": {
      "text/plain": [
       "<tf.Tensor: shape=(2, 2), dtype=int32, numpy=\n",
       "array([[10,  7],\n",
       "       [ 3,  4]])>"
      ]
     },
     "metadata": {},
     "execution_count": 118
    }
   ],
   "metadata": {}
  },
  {
   "cell_type": "code",
   "execution_count": 119,
   "source": [
    "tensor = tf.Variable([\r\n",
    "    [10, 7],\r\n",
    "    [3, 4]\r\n",
    "])\r\n",
    "tensor + 10"
   ],
   "outputs": [
    {
     "output_type": "execute_result",
     "data": {
      "text/plain": [
       "<tf.Tensor: shape=(2, 2), dtype=int32, numpy=\n",
       "array([[20, 17],\n",
       "       [13, 14]])>"
      ]
     },
     "metadata": {},
     "execution_count": 119
    }
   ],
   "metadata": {}
  },
  {
   "cell_type": "code",
   "execution_count": 120,
   "source": [
    "tensor"
   ],
   "outputs": [
    {
     "output_type": "execute_result",
     "data": {
      "text/plain": [
       "<tf.Variable 'Variable:0' shape=(2, 2) dtype=int32, numpy=\n",
       "array([[10,  7],\n",
       "       [ 3,  4]])>"
      ]
     },
     "metadata": {},
     "execution_count": 120
    }
   ],
   "metadata": {}
  },
  {
   "cell_type": "code",
   "execution_count": 121,
   "source": [
    "tensor * 10"
   ],
   "outputs": [
    {
     "output_type": "execute_result",
     "data": {
      "text/plain": [
       "<tf.Tensor: shape=(2, 2), dtype=int32, numpy=\n",
       "array([[100,  70],\n",
       "       [ 30,  40]])>"
      ]
     },
     "metadata": {},
     "execution_count": 121
    }
   ],
   "metadata": {}
  },
  {
   "cell_type": "code",
   "execution_count": 122,
   "source": [
    "tensor"
   ],
   "outputs": [
    {
     "output_type": "execute_result",
     "data": {
      "text/plain": [
       "<tf.Variable 'Variable:0' shape=(2, 2) dtype=int32, numpy=\n",
       "array([[10,  7],\n",
       "       [ 3,  4]])>"
      ]
     },
     "metadata": {},
     "execution_count": 122
    }
   ],
   "metadata": {}
  },
  {
   "cell_type": "code",
   "execution_count": 123,
   "source": [
    "tensor - 10"
   ],
   "outputs": [
    {
     "output_type": "execute_result",
     "data": {
      "text/plain": [
       "<tf.Tensor: shape=(2, 2), dtype=int32, numpy=\n",
       "array([[ 0, -3],\n",
       "       [-7, -6]])>"
      ]
     },
     "metadata": {},
     "execution_count": 123
    }
   ],
   "metadata": {}
  },
  {
   "cell_type": "code",
   "execution_count": 124,
   "source": [
    "tensor"
   ],
   "outputs": [
    {
     "output_type": "execute_result",
     "data": {
      "text/plain": [
       "<tf.Variable 'Variable:0' shape=(2, 2) dtype=int32, numpy=\n",
       "array([[10,  7],\n",
       "       [ 3,  4]])>"
      ]
     },
     "metadata": {},
     "execution_count": 124
    }
   ],
   "metadata": {}
  },
  {
   "cell_type": "code",
   "execution_count": 125,
   "source": [
    "tf.multiply(tensor, 10)"
   ],
   "outputs": [
    {
     "output_type": "execute_result",
     "data": {
      "text/plain": [
       "<tf.Tensor: shape=(2, 2), dtype=int32, numpy=\n",
       "array([[100,  70],\n",
       "       [ 30,  40]])>"
      ]
     },
     "metadata": {},
     "execution_count": 125
    }
   ],
   "metadata": {}
  },
  {
   "cell_type": "code",
   "execution_count": 126,
   "source": [
    "tensor"
   ],
   "outputs": [
    {
     "output_type": "execute_result",
     "data": {
      "text/plain": [
       "<tf.Variable 'Variable:0' shape=(2, 2) dtype=int32, numpy=\n",
       "array([[10,  7],\n",
       "       [ 3,  4]])>"
      ]
     },
     "metadata": {},
     "execution_count": 126
    }
   ],
   "metadata": {}
  },
  {
   "cell_type": "code",
   "execution_count": 127,
   "source": [
    "tf.subtract(tensor, 10)"
   ],
   "outputs": [
    {
     "output_type": "execute_result",
     "data": {
      "text/plain": [
       "<tf.Tensor: shape=(2, 2), dtype=int32, numpy=\n",
       "array([[ 0, -3],\n",
       "       [-7, -6]])>"
      ]
     },
     "metadata": {},
     "execution_count": 127
    }
   ],
   "metadata": {}
  },
  {
   "cell_type": "code",
   "execution_count": 128,
   "source": [
    "tf.add(tensor, 10)"
   ],
   "outputs": [
    {
     "output_type": "execute_result",
     "data": {
      "text/plain": [
       "<tf.Tensor: shape=(2, 2), dtype=int32, numpy=\n",
       "array([[20, 17],\n",
       "       [13, 14]])>"
      ]
     },
     "metadata": {},
     "execution_count": 128
    }
   ],
   "metadata": {}
  },
  {
   "cell_type": "markdown",
   "source": [
    "## TensorFlow에서는 matrix multiplication을 tf.matmul()로 처리합니다.\r\n",
    "## 파이썬에서 @는 matrix multiplication을 의미하기도 합니다. @는 annotation을 의미하기도 합니다.\r\n",
    "## 규칙 1 : 안에 있는 차원이 같아야 한다\r\n",
    "## (3, 5) @ (3, 5) ==> 안 됨!\r\n",
    "## (5, 3) @ (3, 5) ==> 잘 됨!\r\n",
    "## (3, 5) @ (5, 3) ==> 잘 됨!\r\n",
    "\r\n",
    "## 규칙 2: 연산의 결과 행렬은 외부 차원들로 이루어 진다\r\n",
    "## (5, 3) @ (3, 5) => (5, 5)\r\n",
    "## (3, 5) @ (5, 3) => (3, 3)"
   ],
   "metadata": {}
  },
  {
   "cell_type": "code",
   "execution_count": 129,
   "source": [
    "tensor = tf.constant([\r\n",
    "    [10, 7],\r\n",
    "    [3, 4]\r\n",
    "])\r\n",
    "tensor"
   ],
   "outputs": [
    {
     "output_type": "execute_result",
     "data": {
      "text/plain": [
       "<tf.Tensor: shape=(2, 2), dtype=int32, numpy=\n",
       "array([[10,  7],\n",
       "       [ 3,  4]])>"
      ]
     },
     "metadata": {},
     "execution_count": 129
    }
   ],
   "metadata": {}
  },
  {
   "cell_type": "code",
   "execution_count": 130,
   "source": [
    "# (2, 2) @ (2, 2)\r\n",
    "tf.matmul(tensor, tensor)"
   ],
   "outputs": [
    {
     "output_type": "execute_result",
     "data": {
      "text/plain": [
       "<tf.Tensor: shape=(2, 2), dtype=int32, numpy=\n",
       "array([[121,  98],\n",
       "       [ 42,  37]])>"
      ]
     },
     "metadata": {},
     "execution_count": 130
    }
   ],
   "metadata": {}
  },
  {
   "cell_type": "code",
   "execution_count": 131,
   "source": [
    "tensor @ tensor"
   ],
   "outputs": [
    {
     "output_type": "execute_result",
     "data": {
      "text/plain": [
       "<tf.Tensor: shape=(2, 2), dtype=int32, numpy=\n",
       "array([[121,  98],\n",
       "       [ 42,  37]])>"
      ]
     },
     "metadata": {},
     "execution_count": 131
    }
   ],
   "metadata": {}
  },
  {
   "cell_type": "code",
   "execution_count": 134,
   "source": [
    "X = tf.constant([\r\n",
    "    [1, 2],\r\n",
    "    [3, 4],\r\n",
    "    [5, 6]\r\n",
    "])\r\n",
    "\r\n",
    "Y = tf.constant([\r\n",
    "    [7, 8],\r\n",
    "    [9, 10],\r\n",
    "    [11, 12]\r\n",
    "])\r\n",
    "X, Y, X.ndim, Y.ndim"
   ],
   "outputs": [
    {
     "output_type": "execute_result",
     "data": {
      "text/plain": [
       "(<tf.Tensor: shape=(3, 2), dtype=int32, numpy=\n",
       " array([[1, 2],\n",
       "        [3, 4],\n",
       "        [5, 6]])>,\n",
       " <tf.Tensor: shape=(3, 2), dtype=int32, numpy=\n",
       " array([[ 7,  8],\n",
       "        [ 9, 10],\n",
       "        [11, 12]])>,\n",
       " 2,\n",
       " 2)"
      ]
     },
     "metadata": {},
     "execution_count": 134
    }
   ],
   "metadata": {}
  },
  {
   "cell_type": "code",
   "execution_count": null,
   "source": [
    "# (3, 2) @ (3, 2) => 규칙 1 위반\r\n",
    "\r\n",
    "X @ Y"
   ],
   "outputs": [],
   "metadata": {}
  },
  {
   "cell_type": "code",
   "execution_count": null,
   "source": [
    "tf.matmul(X, Y)"
   ],
   "outputs": [],
   "metadata": {}
  },
  {
   "cell_type": "markdown",
   "source": [
    "## 위와 같은 경우를 해결하려면\r\n",
    "## (3, 2) @ (3, 2)\r\n",
    "## 1) X의 shape 변경 => (2, 3) @ (3, 2) => 결과 (2, 2)\r\n",
    "## 2) Y의 shape 변경 => (3, 2) @ (2, 3) => 결과 (3, 3)"
   ],
   "metadata": {}
  },
  {
   "cell_type": "code",
   "execution_count": 137,
   "source": [
    "tf.reshape(X, shape=(2, 3))"
   ],
   "outputs": [
    {
     "output_type": "execute_result",
     "data": {
      "text/plain": [
       "<tf.Tensor: shape=(2, 3), dtype=int32, numpy=\n",
       "array([[1, 2, 3],\n",
       "       [4, 5, 6]])>"
      ]
     },
     "metadata": {},
     "execution_count": 137
    }
   ],
   "metadata": {}
  },
  {
   "cell_type": "code",
   "execution_count": 139,
   "source": [
    "tf.reshape(X, shape=(2, 3)) @ Y"
   ],
   "outputs": [
    {
     "output_type": "execute_result",
     "data": {
      "text/plain": [
       "<tf.Tensor: shape=(2, 2), dtype=int32, numpy=\n",
       "array([[ 58,  64],\n",
       "       [139, 154]])>"
      ]
     },
     "metadata": {},
     "execution_count": 139
    }
   ],
   "metadata": {}
  },
  {
   "cell_type": "code",
   "execution_count": 140,
   "source": [
    "tf.reshape(Y, shape=(2, 3))"
   ],
   "outputs": [
    {
     "output_type": "execute_result",
     "data": {
      "text/plain": [
       "<tf.Tensor: shape=(2, 3), dtype=int32, numpy=\n",
       "array([[ 7,  8,  9],\n",
       "       [10, 11, 12]])>"
      ]
     },
     "metadata": {},
     "execution_count": 140
    }
   ],
   "metadata": {}
  },
  {
   "cell_type": "code",
   "execution_count": 141,
   "source": [
    "X @ tf.reshape(Y, shape=(2, 3))"
   ],
   "outputs": [
    {
     "output_type": "execute_result",
     "data": {
      "text/plain": [
       "<tf.Tensor: shape=(3, 3), dtype=int32, numpy=\n",
       "array([[ 27,  30,  33],\n",
       "       [ 61,  68,  75],\n",
       "       [ 95, 106, 117]])>"
      ]
     },
     "metadata": {},
     "execution_count": 141
    }
   ],
   "metadata": {}
  },
  {
   "cell_type": "code",
   "execution_count": 144,
   "source": [
    "X, tf.reshape(X, shape=(2, 3)), tf.transpose(X)"
   ],
   "outputs": [
    {
     "output_type": "execute_result",
     "data": {
      "text/plain": [
       "(<tf.Tensor: shape=(3, 2), dtype=int32, numpy=\n",
       " array([[1, 2],\n",
       "        [3, 4],\n",
       "        [5, 6]])>,\n",
       " <tf.Tensor: shape=(2, 3), dtype=int32, numpy=\n",
       " array([[1, 2, 3],\n",
       "        [4, 5, 6]])>,\n",
       " <tf.Tensor: shape=(2, 3), dtype=int32, numpy=\n",
       " array([[1, 3, 5],\n",
       "        [2, 4, 6]])>)"
      ]
     },
     "metadata": {},
     "execution_count": 144
    }
   ],
   "metadata": {}
  },
  {
   "cell_type": "code",
   "execution_count": 145,
   "source": [
    "tf.reshape(X, shape=(2, 3)) @ Y, tf.transpose(X) @ Y"
   ],
   "outputs": [
    {
     "output_type": "execute_result",
     "data": {
      "text/plain": [
       "(<tf.Tensor: shape=(2, 2), dtype=int32, numpy=\n",
       " array([[ 58,  64],\n",
       "        [139, 154]])>,\n",
       " <tf.Tensor: shape=(2, 2), dtype=int32, numpy=\n",
       " array([[ 89,  98],\n",
       "        [116, 128]])>)"
      ]
     },
     "metadata": {},
     "execution_count": 145
    }
   ],
   "metadata": {}
  },
  {
   "cell_type": "code",
   "execution_count": 146,
   "source": [
    "tf.matmul(tf.transpose(X), Y)"
   ],
   "outputs": [
    {
     "output_type": "execute_result",
     "data": {
      "text/plain": [
       "<tf.Tensor: shape=(2, 2), dtype=int32, numpy=\n",
       "array([[ 89,  98],\n",
       "       [116, 128]])>"
      ]
     },
     "metadata": {},
     "execution_count": 146
    }
   ],
   "metadata": {}
  },
  {
   "cell_type": "code",
   "execution_count": 148,
   "source": [
    "tf.matmul(a = X, b= Y, transpose_a = True, transpose_b = False)"
   ],
   "outputs": [
    {
     "output_type": "execute_result",
     "data": {
      "text/plain": [
       "<tf.Tensor: shape=(2, 2), dtype=int32, numpy=\n",
       "array([[ 89,  98],\n",
       "       [116, 128]])>"
      ]
     },
     "metadata": {},
     "execution_count": 148
    }
   ],
   "metadata": {}
  },
  {
   "cell_type": "code",
   "execution_count": 149,
   "source": [
    "tf.tensordot(tf.transpose(X), Y, axes = 1)"
   ],
   "outputs": [
    {
     "output_type": "execute_result",
     "data": {
      "text/plain": [
       "<tf.Tensor: shape=(2, 2), dtype=int32, numpy=\n",
       "array([[ 89,  98],\n",
       "       [116, 128]])>"
      ]
     },
     "metadata": {},
     "execution_count": 149
    }
   ],
   "metadata": {}
  },
  {
   "cell_type": "code",
   "execution_count": 437,
   "source": [
    "tf.matmul(X, tf.transpose(Y))"
   ],
   "outputs": [
    {
     "output_type": "execute_result",
     "data": {
      "text/plain": [
       "<tf.Tensor: shape=(3, 3), dtype=int32, numpy=\n",
       "array([[ 23,  29,  35],\n",
       "       [ 53,  67,  81],\n",
       "       [ 83, 105, 127]])>"
      ]
     },
     "metadata": {},
     "execution_count": 437
    }
   ],
   "metadata": {}
  },
  {
   "cell_type": "code",
   "execution_count": 438,
   "source": [
    "tf.matmul(X, tf.reshape(Y, (2, 3)))"
   ],
   "outputs": [
    {
     "output_type": "execute_result",
     "data": {
      "text/plain": [
       "<tf.Tensor: shape=(3, 3), dtype=int32, numpy=\n",
       "array([[ 27,  30,  33],\n",
       "       [ 61,  68,  75],\n",
       "       [ 95, 106, 117]])>"
      ]
     },
     "metadata": {},
     "execution_count": 438
    }
   ],
   "metadata": {}
  },
  {
   "cell_type": "code",
   "execution_count": 440,
   "source": [
    "Y.shape, tf.reshape(Y, (2, 3)).shape, tf.transpose(Y).shape"
   ],
   "outputs": [
    {
     "output_type": "execute_result",
     "data": {
      "text/plain": [
       "(TensorShape([3, 2]), TensorShape([2, 3]), TensorShape([2, 3]))"
      ]
     },
     "metadata": {},
     "execution_count": 440
    }
   ],
   "metadata": {}
  },
  {
   "cell_type": "code",
   "execution_count": 441,
   "source": [
    "Y.shape, tf.reshape(Y, (2, 3)), tf.transpose(Y)"
   ],
   "outputs": [
    {
     "output_type": "execute_result",
     "data": {
      "text/plain": [
       "(TensorShape([3, 2]),\n",
       " <tf.Tensor: shape=(2, 3), dtype=int32, numpy=\n",
       " array([[ 7,  8,  9],\n",
       "        [10, 11, 12]])>,\n",
       " <tf.Tensor: shape=(2, 3), dtype=int32, numpy=\n",
       " array([[ 7,  9, 11],\n",
       "        [ 8, 10, 12]])>)"
      ]
     },
     "metadata": {},
     "execution_count": 441
    }
   ],
   "metadata": {}
  },
  {
   "cell_type": "markdown",
   "source": [
    "## tf.reshape() : 주어진 tensor의 shape를 지정한 shape로 바꾸어 준다. 그 값이 나온 순서대로 (행에서 그리고 열) 값을 채운다. \r\n",
    "## tf.transpose() : 축을 바꾸어준다."
   ],
   "metadata": {}
  },
  {
   "cell_type": "code",
   "execution_count": 442,
   "source": [
    "B = tf.constant([1.7, 7.4])"
   ],
   "outputs": [],
   "metadata": {}
  },
  {
   "cell_type": "code",
   "execution_count": 443,
   "source": [
    "C = tf.constant([1, 7])"
   ],
   "outputs": [],
   "metadata": {}
  },
  {
   "cell_type": "code",
   "execution_count": 444,
   "source": [
    "B, C"
   ],
   "outputs": [
    {
     "output_type": "execute_result",
     "data": {
      "text/plain": [
       "(<tf.Tensor: shape=(2,), dtype=float32, numpy=array([1.7, 7.4], dtype=float32)>,\n",
       " <tf.Tensor: shape=(2,), dtype=int32, numpy=array([1, 7])>)"
      ]
     },
     "metadata": {},
     "execution_count": 444
    }
   ],
   "metadata": {}
  },
  {
   "cell_type": "code",
   "execution_count": 445,
   "source": [
    "B = tf.cast(B, dtype=tf.float16)\r\n",
    "B"
   ],
   "outputs": [
    {
     "output_type": "execute_result",
     "data": {
      "text/plain": [
       "<tf.Tensor: shape=(2,), dtype=float16, numpy=array([1.7, 7.4], dtype=float16)>"
      ]
     },
     "metadata": {},
     "execution_count": 445
    }
   ],
   "metadata": {}
  },
  {
   "cell_type": "code",
   "execution_count": 446,
   "source": [
    "C = tf.cast(C, dtype=tf.float32)\r\n",
    "C"
   ],
   "outputs": [
    {
     "output_type": "execute_result",
     "data": {
      "text/plain": [
       "<tf.Tensor: shape=(2,), dtype=float32, numpy=array([1., 7.], dtype=float32)>"
      ]
     },
     "metadata": {},
     "execution_count": 446
    }
   ],
   "metadata": {}
  },
  {
   "cell_type": "code",
   "execution_count": 447,
   "source": [
    "D = tf.constant([-7, -10])\r\n",
    "D"
   ],
   "outputs": [
    {
     "output_type": "execute_result",
     "data": {
      "text/plain": [
       "<tf.Tensor: shape=(2,), dtype=int32, numpy=array([ -7, -10])>"
      ]
     },
     "metadata": {},
     "execution_count": 447
    }
   ],
   "metadata": {}
  },
  {
   "cell_type": "code",
   "execution_count": 448,
   "source": [
    "tf.abs(D)"
   ],
   "outputs": [
    {
     "output_type": "execute_result",
     "data": {
      "text/plain": [
       "<tf.Tensor: shape=(2,), dtype=int32, numpy=array([ 7, 10])>"
      ]
     },
     "metadata": {},
     "execution_count": 448
    }
   ],
   "metadata": {}
  },
  {
   "cell_type": "code",
   "execution_count": 453,
   "source": [
    "E = tf.constant(np.random.randint(low = 0, high = 100, size = 50))\r\n",
    "E"
   ],
   "outputs": [
    {
     "output_type": "execute_result",
     "data": {
      "text/plain": [
       "<tf.Tensor: shape=(50,), dtype=int32, numpy=\n",
       "array([ 6, 68, 91, 13, 26, 24, 71, 44, 46, 10, 50, 17, 63, 56, 92, 84, 79,\n",
       "       96, 39,  8, 23, 72, 39, 42, 43, 65,  1, 54, 54, 70, 43, 94, 37, 78,\n",
       "       20, 81, 93, 30, 79, 13,  0, 44, 95, 38, 25, 34, 25, 19,  4, 61])>"
      ]
     },
     "metadata": {},
     "execution_count": 453
    }
   ],
   "metadata": {}
  },
  {
   "cell_type": "code",
   "execution_count": 469,
   "source": [
    "tf.math.reduce_min(E)"
   ],
   "outputs": [
    {
     "output_type": "execute_result",
     "data": {
      "text/plain": [
       "<tf.Tensor: shape=(), dtype=int32, numpy=0>"
      ]
     },
     "metadata": {},
     "execution_count": 469
    }
   ],
   "metadata": {}
  },
  {
   "cell_type": "code",
   "execution_count": 470,
   "source": [
    "tf.math.reduce_max(E)"
   ],
   "outputs": [
    {
     "output_type": "execute_result",
     "data": {
      "text/plain": [
       "<tf.Tensor: shape=(), dtype=int32, numpy=96>"
      ]
     },
     "metadata": {},
     "execution_count": 470
    }
   ],
   "metadata": {}
  },
  {
   "cell_type": "code",
   "execution_count": 471,
   "source": [
    "tf.math.reduce_mean(E)"
   ],
   "outputs": [
    {
     "output_type": "execute_result",
     "data": {
      "text/plain": [
       "<tf.Tensor: shape=(), dtype=int32, numpy=47>"
      ]
     },
     "metadata": {},
     "execution_count": 471
    }
   ],
   "metadata": {}
  },
  {
   "cell_type": "code",
   "execution_count": 472,
   "source": [
    "tf.math.reduce_sum(E)"
   ],
   "outputs": [
    {
     "output_type": "execute_result",
     "data": {
      "text/plain": [
       "<tf.Tensor: shape=(), dtype=int32, numpy=2359>"
      ]
     },
     "metadata": {},
     "execution_count": 472
    }
   ],
   "metadata": {}
  },
  {
   "cell_type": "code",
   "execution_count": 479,
   "source": [
    "tf.math.reduce_std(tf.cast(E, dtype=tf.float16))"
   ],
   "outputs": [
    {
     "output_type": "execute_result",
     "data": {
      "text/plain": [
       "<tf.Tensor: shape=(), dtype=float16, numpy=28.44>"
      ]
     },
     "metadata": {},
     "execution_count": 479
    }
   ],
   "metadata": {}
  },
  {
   "cell_type": "code",
   "execution_count": 468,
   "source": [
    "tf.math.reduce_variance(tf.cast(E, dtype=tf.float16))"
   ],
   "outputs": [
    {
     "output_type": "execute_result",
     "data": {
      "text/plain": [
       "<tf.Tensor: shape=(), dtype=float16, numpy=808.5>"
      ]
     },
     "metadata": {},
     "execution_count": 468
    }
   ],
   "metadata": {}
  },
  {
   "cell_type": "code",
   "execution_count": 476,
   "source": [
    "tf.math.argmax(E) # max 값을 가진 위치를 알려준다"
   ],
   "outputs": [
    {
     "output_type": "execute_result",
     "data": {
      "text/plain": [
       "<tf.Tensor: shape=(), dtype=int64, numpy=17>"
      ]
     },
     "metadata": {},
     "execution_count": 476
    }
   ],
   "metadata": {}
  },
  {
   "cell_type": "code",
   "execution_count": 477,
   "source": [
    "tf.math.argmin(E) # min 값을 가진 위치를 알려준다"
   ],
   "outputs": [
    {
     "output_type": "execute_result",
     "data": {
      "text/plain": [
       "<tf.Tensor: shape=(), dtype=int64, numpy=40>"
      ]
     },
     "metadata": {},
     "execution_count": 477
    }
   ],
   "metadata": {}
  },
  {
   "cell_type": "markdown",
   "source": [
    "## [\"Red\", \"Green\", \"Blue\"] : 우리가 보는 라벨\r\n",
    "## [0.98, 0.01, 0.01] : softmax를 통해서 고를 예측 확률 argmax"
   ],
   "metadata": {}
  },
  {
   "cell_type": "code",
   "execution_count": 480,
   "source": [
    "F = tf.constant(np.random.random(50))\r\n",
    "F"
   ],
   "outputs": [
    {
     "output_type": "execute_result",
     "data": {
      "text/plain": [
       "<tf.Tensor: shape=(50,), dtype=float64, numpy=\n",
       "array([0.87554278, 0.40352593, 0.85596206, 0.98904959, 0.87281304,\n",
       "       0.20646059, 0.61111544, 0.43039855, 0.07732076, 0.32968703,\n",
       "       0.26296983, 0.33655549, 0.69321445, 0.25391615, 0.63570385,\n",
       "       0.0016405 , 0.52555945, 0.64351851, 0.39608375, 0.37860857,\n",
       "       0.87891623, 0.45032602, 0.10232663, 0.34121392, 0.76516572,\n",
       "       0.90544878, 0.70998925, 0.4944193 , 0.70044257, 0.12357105,\n",
       "       0.50832023, 0.80009119, 0.24349573, 0.13670037, 0.02172801,\n",
       "       0.37661289, 0.58245278, 0.21921336, 0.84599379, 0.53664226,\n",
       "       0.980166  , 0.62000601, 0.86424909, 0.2466399 , 0.41342146,\n",
       "       0.7130985 , 0.83867675, 0.94069129, 0.72880424, 0.21400572])>"
      ]
     },
     "metadata": {},
     "execution_count": 480
    }
   ],
   "metadata": {}
  },
  {
   "cell_type": "code",
   "execution_count": 482,
   "source": [
    "tf.reduce_max(F), tf.argmax(F)"
   ],
   "outputs": [
    {
     "output_type": "execute_result",
     "data": {
      "text/plain": [
       "(<tf.Tensor: shape=(), dtype=float64, numpy=0.989049586432909>,\n",
       " <tf.Tensor: shape=(), dtype=int64, numpy=3>)"
      ]
     },
     "metadata": {},
     "execution_count": 482
    }
   ],
   "metadata": {}
  },
  {
   "cell_type": "code",
   "execution_count": 483,
   "source": [
    "tf.reduce_min(F), tf.argmin(F)"
   ],
   "outputs": [
    {
     "output_type": "execute_result",
     "data": {
      "text/plain": [
       "(<tf.Tensor: shape=(), dtype=float64, numpy=0.0016405033549572456>,\n",
       " <tf.Tensor: shape=(), dtype=int64, numpy=15>)"
      ]
     },
     "metadata": {},
     "execution_count": 483
    }
   ],
   "metadata": {}
  },
  {
   "cell_type": "code",
   "execution_count": 485,
   "source": [
    "print(f\"F의 최대값의 위치는 {tf.argmax(F).numpy()}\")\r\n",
    "print(f\"F의 최대값은 {tf.reduce_max(F).numpy()}\")"
   ],
   "outputs": [
    {
     "output_type": "stream",
     "name": "stdout",
     "text": [
      "F의 최대값의 위치는 3\n",
      "F의 최대값은 0.989049586432909\n"
     ]
    }
   ],
   "metadata": {}
  },
  {
   "cell_type": "code",
   "execution_count": 490,
   "source": [
    "print(f\"tf.argmax()의 값을 이용해서 찾은 F의 최대값는 {F[tf.argmax(F)].numpy()}\")\r\n",
    "print(f\"tf.reduce_max의 값과 tf.argmax()를 통해서 찾은 값은 같을까? {F[tf.argmax(F)].numpy() == tf.reduce_max(F).numpy()}\")"
   ],
   "outputs": [
    {
     "output_type": "stream",
     "name": "stdout",
     "text": [
      "tf.argmax()의 값을 이용해서 찾은 F의 최대값는 0.989049586432909\n",
      "tf.reduce_max의 값과 tf.argmax()를 통해서 찾은 값은 같을까? True\n"
     ]
    }
   ],
   "metadata": {}
  },
  {
   "cell_type": "code",
   "execution_count": 494,
   "source": [
    "G = tf.constant(np.random.randint(0, 100, 50), shape = (1, 1, 1, 1, 50))\r\n",
    "G, G.shape, G.ndim"
   ],
   "outputs": [
    {
     "output_type": "execute_result",
     "data": {
      "text/plain": [
       "(<tf.Tensor: shape=(1, 1, 1, 1, 50), dtype=int32, numpy=\n",
       " array([[[[[13,  8, 40, 80, 83,  4, 11, 53, 68, 39, 91, 57, 90, 30, 15,\n",
       "            54, 28, 58, 69, 70, 11, 88, 70, 64, 84, 45, 74, 87, 46, 28,\n",
       "            13, 92, 55, 12, 23, 84, 46, 70, 25, 34, 37, 98, 72, 40, 73,\n",
       "            47, 32, 90, 47, 77]]]]])>,\n",
       " TensorShape([1, 1, 1, 1, 50]),\n",
       " 5)"
      ]
     },
     "metadata": {},
     "execution_count": 494
    }
   ],
   "metadata": {}
  },
  {
   "cell_type": "code",
   "execution_count": 496,
   "source": [
    "G_squeezed = tf.squeeze(G)\r\n",
    "G_squeezed.shape, G_squeezed.ndim\r\n",
    "\r\n",
    "# 차원의 크기가 1인 차원을 제거해주는 함수"
   ],
   "outputs": [
    {
     "output_type": "execute_result",
     "data": {
      "text/plain": [
       "(TensorShape([50]), 1)"
      ]
     },
     "metadata": {},
     "execution_count": 496
    }
   ],
   "metadata": {}
  },
  {
   "cell_type": "code",
   "execution_count": 498,
   "source": [
    "some_list = [0, 1, 2, 3]\r\n",
    "some_list"
   ],
   "outputs": [
    {
     "output_type": "execute_result",
     "data": {
      "text/plain": [
       "[0, 1, 2, 3]"
      ]
     },
     "metadata": {},
     "execution_count": 498
    }
   ],
   "metadata": {}
  },
  {
   "cell_type": "code",
   "execution_count": 502,
   "source": [
    "tf.one_hot(some_list, depth=4)"
   ],
   "outputs": [
    {
     "output_type": "execute_result",
     "data": {
      "text/plain": [
       "<tf.Tensor: shape=(4, 4), dtype=float32, numpy=\n",
       "array([[1., 0., 0., 0.],\n",
       "       [0., 1., 0., 0.],\n",
       "       [0., 0., 1., 0.],\n",
       "       [0., 0., 0., 1.]], dtype=float32)>"
      ]
     },
     "metadata": {},
     "execution_count": 502
    }
   ],
   "metadata": {}
  },
  {
   "cell_type": "code",
   "execution_count": 503,
   "source": [
    "tf.one_hot(some_list, depth=4, on_value=\"On\", off_value=\"Off\")"
   ],
   "outputs": [
    {
     "output_type": "execute_result",
     "data": {
      "text/plain": [
       "<tf.Tensor: shape=(4, 4), dtype=string, numpy=\n",
       "array([[b'On', b'Off', b'Off', b'Off'],\n",
       "       [b'Off', b'On', b'Off', b'Off'],\n",
       "       [b'Off', b'Off', b'On', b'Off'],\n",
       "       [b'Off', b'Off', b'Off', b'On']], dtype=object)>"
      ]
     },
     "metadata": {},
     "execution_count": 503
    }
   ],
   "metadata": {}
  },
  {
   "cell_type": "code",
   "execution_count": 504,
   "source": [
    "H = tf.constant(np.arange(1, 10))\r\n",
    "H"
   ],
   "outputs": [
    {
     "output_type": "execute_result",
     "data": {
      "text/plain": [
       "<tf.Tensor: shape=(9,), dtype=int32, numpy=array([1, 2, 3, 4, 5, 6, 7, 8, 9])>"
      ]
     },
     "metadata": {},
     "execution_count": 504
    }
   ],
   "metadata": {}
  },
  {
   "cell_type": "code",
   "execution_count": 505,
   "source": [
    "tf.square(H)"
   ],
   "outputs": [
    {
     "output_type": "execute_result",
     "data": {
      "text/plain": [
       "<tf.Tensor: shape=(9,), dtype=int32, numpy=array([ 1,  4,  9, 16, 25, 36, 49, 64, 81])>"
      ]
     },
     "metadata": {},
     "execution_count": 505
    }
   ],
   "metadata": {}
  },
  {
   "cell_type": "code",
   "execution_count": 508,
   "source": [
    "tf.sqrt(H)"
   ],
   "outputs": [
    {
     "output_type": "error",
     "ename": "InvalidArgumentError",
     "evalue": "Value for attr 'T' of int32 is not in the list of allowed values: bfloat16, half, float, double, complex64, complex128\n\t; NodeDef: {{node Sqrt}}; Op<name=Sqrt; signature=x:T -> y:T; attr=T:type,allowed=[DT_BFLOAT16, DT_HALF, DT_FLOAT, DT_DOUBLE, DT_COMPLEX64, DT_COMPLEX128]> [Op:Sqrt]",
     "traceback": [
      "\u001b[1;31m---------------------------------------------------------------------------\u001b[0m",
      "\u001b[1;31mInvalidArgumentError\u001b[0m                      Traceback (most recent call last)",
      "\u001b[1;32m~\\AppData\\Local\\Temp/ipykernel_14200/2689301343.py\u001b[0m in \u001b[0;36m<module>\u001b[1;34m\u001b[0m\n\u001b[1;32m----> 1\u001b[1;33m \u001b[0mtf\u001b[0m\u001b[1;33m.\u001b[0m\u001b[0msqrt\u001b[0m\u001b[1;33m(\u001b[0m\u001b[0mH\u001b[0m\u001b[1;33m)\u001b[0m\u001b[1;33m\u001b[0m\u001b[1;33m\u001b[0m\u001b[0m\n\u001b[0m",
      "\u001b[1;32mc:\\workspace\\lecture_tensorflow\\venv\\lib\\site-packages\\tensorflow\\python\\util\\dispatch.py\u001b[0m in \u001b[0;36mwrapper\u001b[1;34m(*args, **kwargs)\u001b[0m\n\u001b[0;32m    204\u001b[0m     \u001b[1;34m\"\"\"Call target, and fall back on dispatchers if there is a TypeError.\"\"\"\u001b[0m\u001b[1;33m\u001b[0m\u001b[1;33m\u001b[0m\u001b[0m\n\u001b[0;32m    205\u001b[0m     \u001b[1;32mtry\u001b[0m\u001b[1;33m:\u001b[0m\u001b[1;33m\u001b[0m\u001b[1;33m\u001b[0m\u001b[0m\n\u001b[1;32m--> 206\u001b[1;33m       \u001b[1;32mreturn\u001b[0m \u001b[0mtarget\u001b[0m\u001b[1;33m(\u001b[0m\u001b[1;33m*\u001b[0m\u001b[0margs\u001b[0m\u001b[1;33m,\u001b[0m \u001b[1;33m**\u001b[0m\u001b[0mkwargs\u001b[0m\u001b[1;33m)\u001b[0m\u001b[1;33m\u001b[0m\u001b[1;33m\u001b[0m\u001b[0m\n\u001b[0m\u001b[0;32m    207\u001b[0m     \u001b[1;32mexcept\u001b[0m \u001b[1;33m(\u001b[0m\u001b[0mTypeError\u001b[0m\u001b[1;33m,\u001b[0m \u001b[0mValueError\u001b[0m\u001b[1;33m)\u001b[0m\u001b[1;33m:\u001b[0m\u001b[1;33m\u001b[0m\u001b[1;33m\u001b[0m\u001b[0m\n\u001b[0;32m    208\u001b[0m       \u001b[1;31m# Note: convert_to_eager_tensor currently raises a ValueError, not a\u001b[0m\u001b[1;33m\u001b[0m\u001b[1;33m\u001b[0m\u001b[1;33m\u001b[0m\u001b[0m\n",
      "\u001b[1;32mc:\\workspace\\lecture_tensorflow\\venv\\lib\\site-packages\\tensorflow\\python\\ops\\math_ops.py\u001b[0m in \u001b[0;36msqrt\u001b[1;34m(x, name)\u001b[0m\n\u001b[0;32m   5324\u001b[0m     \u001b[0mA\u001b[0m\u001b[0;31m \u001b[0m\u001b[0;31m`\u001b[0m\u001b[0mtf\u001b[0m\u001b[1;33m.\u001b[0m\u001b[0mTensor\u001b[0m\u001b[0;31m`\u001b[0m \u001b[0mof\u001b[0m \u001b[0msame\u001b[0m \u001b[0msize\u001b[0m\u001b[1;33m,\u001b[0m \u001b[0mtype\u001b[0m \u001b[1;32mand\u001b[0m \u001b[0msparsity\u001b[0m \u001b[1;32mas\u001b[0m\u001b[0;31m \u001b[0m\u001b[0;31m`\u001b[0m\u001b[0mx\u001b[0m\u001b[0;31m`\u001b[0m\u001b[1;33m.\u001b[0m\u001b[1;33m\u001b[0m\u001b[1;33m\u001b[0m\u001b[0m\n\u001b[0;32m   5325\u001b[0m   \"\"\"\n\u001b[1;32m-> 5326\u001b[1;33m   \u001b[1;32mreturn\u001b[0m \u001b[0mgen_math_ops\u001b[0m\u001b[1;33m.\u001b[0m\u001b[0msqrt\u001b[0m\u001b[1;33m(\u001b[0m\u001b[0mx\u001b[0m\u001b[1;33m,\u001b[0m \u001b[0mname\u001b[0m\u001b[1;33m)\u001b[0m\u001b[1;33m\u001b[0m\u001b[1;33m\u001b[0m\u001b[0m\n\u001b[0m\u001b[0;32m   5327\u001b[0m \u001b[1;33m\u001b[0m\u001b[0m\n\u001b[0;32m   5328\u001b[0m \u001b[1;33m\u001b[0m\u001b[0m\n",
      "\u001b[1;32mc:\\workspace\\lecture_tensorflow\\venv\\lib\\site-packages\\tensorflow\\python\\ops\\gen_math_ops.py\u001b[0m in \u001b[0;36msqrt\u001b[1;34m(x, name)\u001b[0m\n\u001b[0;32m  10298\u001b[0m       \u001b[1;32mreturn\u001b[0m \u001b[0m_result\u001b[0m\u001b[1;33m\u001b[0m\u001b[1;33m\u001b[0m\u001b[0m\n\u001b[0;32m  10299\u001b[0m     \u001b[1;32mexcept\u001b[0m \u001b[0m_core\u001b[0m\u001b[1;33m.\u001b[0m\u001b[0m_NotOkStatusException\u001b[0m \u001b[1;32mas\u001b[0m \u001b[0me\u001b[0m\u001b[1;33m:\u001b[0m\u001b[1;33m\u001b[0m\u001b[1;33m\u001b[0m\u001b[0m\n\u001b[1;32m> 10300\u001b[1;33m       \u001b[0m_ops\u001b[0m\u001b[1;33m.\u001b[0m\u001b[0mraise_from_not_ok_status\u001b[0m\u001b[1;33m(\u001b[0m\u001b[0me\u001b[0m\u001b[1;33m,\u001b[0m \u001b[0mname\u001b[0m\u001b[1;33m)\u001b[0m\u001b[1;33m\u001b[0m\u001b[1;33m\u001b[0m\u001b[0m\n\u001b[0m\u001b[0;32m  10301\u001b[0m     \u001b[1;32mexcept\u001b[0m \u001b[0m_core\u001b[0m\u001b[1;33m.\u001b[0m\u001b[0m_FallbackException\u001b[0m\u001b[1;33m:\u001b[0m\u001b[1;33m\u001b[0m\u001b[1;33m\u001b[0m\u001b[0m\n\u001b[0;32m  10302\u001b[0m       \u001b[1;32mpass\u001b[0m\u001b[1;33m\u001b[0m\u001b[1;33m\u001b[0m\u001b[0m\n",
      "\u001b[1;32mc:\\workspace\\lecture_tensorflow\\venv\\lib\\site-packages\\tensorflow\\python\\framework\\ops.py\u001b[0m in \u001b[0;36mraise_from_not_ok_status\u001b[1;34m(e, name)\u001b[0m\n\u001b[0;32m   6939\u001b[0m   \u001b[0mmessage\u001b[0m \u001b[1;33m=\u001b[0m \u001b[0me\u001b[0m\u001b[1;33m.\u001b[0m\u001b[0mmessage\u001b[0m \u001b[1;33m+\u001b[0m \u001b[1;33m(\u001b[0m\u001b[1;34m\" name: \"\u001b[0m \u001b[1;33m+\u001b[0m \u001b[0mname\u001b[0m \u001b[1;32mif\u001b[0m \u001b[0mname\u001b[0m \u001b[1;32mis\u001b[0m \u001b[1;32mnot\u001b[0m \u001b[1;32mNone\u001b[0m \u001b[1;32melse\u001b[0m \u001b[1;34m\"\"\u001b[0m\u001b[1;33m)\u001b[0m\u001b[1;33m\u001b[0m\u001b[1;33m\u001b[0m\u001b[0m\n\u001b[0;32m   6940\u001b[0m   \u001b[1;31m# pylint: disable=protected-access\u001b[0m\u001b[1;33m\u001b[0m\u001b[1;33m\u001b[0m\u001b[1;33m\u001b[0m\u001b[0m\n\u001b[1;32m-> 6941\u001b[1;33m   \u001b[0msix\u001b[0m\u001b[1;33m.\u001b[0m\u001b[0mraise_from\u001b[0m\u001b[1;33m(\u001b[0m\u001b[0mcore\u001b[0m\u001b[1;33m.\u001b[0m\u001b[0m_status_to_exception\u001b[0m\u001b[1;33m(\u001b[0m\u001b[0me\u001b[0m\u001b[1;33m.\u001b[0m\u001b[0mcode\u001b[0m\u001b[1;33m,\u001b[0m \u001b[0mmessage\u001b[0m\u001b[1;33m)\u001b[0m\u001b[1;33m,\u001b[0m \u001b[1;32mNone\u001b[0m\u001b[1;33m)\u001b[0m\u001b[1;33m\u001b[0m\u001b[1;33m\u001b[0m\u001b[0m\n\u001b[0m\u001b[0;32m   6942\u001b[0m   \u001b[1;31m# pylint: enable=protected-access\u001b[0m\u001b[1;33m\u001b[0m\u001b[1;33m\u001b[0m\u001b[1;33m\u001b[0m\u001b[0m\n\u001b[0;32m   6943\u001b[0m \u001b[1;33m\u001b[0m\u001b[0m\n",
      "\u001b[1;32mc:\\workspace\\lecture_tensorflow\\venv\\lib\\site-packages\\six.py\u001b[0m in \u001b[0;36mraise_from\u001b[1;34m(value, from_value)\u001b[0m\n",
      "\u001b[1;31mInvalidArgumentError\u001b[0m: Value for attr 'T' of int32 is not in the list of allowed values: bfloat16, half, float, double, complex64, complex128\n\t; NodeDef: {{node Sqrt}}; Op<name=Sqrt; signature=x:T -> y:T; attr=T:type,allowed=[DT_BFLOAT16, DT_HALF, DT_FLOAT, DT_DOUBLE, DT_COMPLEX64, DT_COMPLEX128]> [Op:Sqrt]"
     ]
    }
   ],
   "metadata": {}
  },
  {
   "cell_type": "code",
   "execution_count": 509,
   "source": [
    "H.dtype"
   ],
   "outputs": [
    {
     "output_type": "execute_result",
     "data": {
      "text/plain": [
       "tf.int32"
      ]
     },
     "metadata": {},
     "execution_count": 509
    }
   ],
   "metadata": {}
  },
  {
   "cell_type": "code",
   "execution_count": 512,
   "source": [
    "H = tf.cast(H, dtype=tf.float16)\r\n",
    "H.dtype, H"
   ],
   "outputs": [
    {
     "output_type": "execute_result",
     "data": {
      "text/plain": [
       "(tf.float16,\n",
       " <tf.Tensor: shape=(9,), dtype=float16, numpy=array([1., 2., 3., 4., 5., 6., 7., 8., 9.], dtype=float16)>)"
      ]
     },
     "metadata": {},
     "execution_count": 512
    }
   ],
   "metadata": {}
  },
  {
   "cell_type": "code",
   "execution_count": 513,
   "source": [
    "tf.sqrt(H)"
   ],
   "outputs": [
    {
     "output_type": "execute_result",
     "data": {
      "text/plain": [
       "<tf.Tensor: shape=(9,), dtype=float16, numpy=\n",
       "array([1.   , 1.414, 1.732, 2.   , 2.236, 2.45 , 2.646, 2.828, 3.   ],\n",
       "      dtype=float16)>"
      ]
     },
     "metadata": {},
     "execution_count": 513
    }
   ],
   "metadata": {}
  },
  {
   "cell_type": "code",
   "execution_count": 514,
   "source": [
    "H = tf.cast(H, dtype=tf.float32)\r\n",
    "H.dtype, H"
   ],
   "outputs": [
    {
     "output_type": "execute_result",
     "data": {
      "text/plain": [
       "(tf.float32,\n",
       " <tf.Tensor: shape=(9,), dtype=float32, numpy=array([1., 2., 3., 4., 5., 6., 7., 8., 9.], dtype=float32)>)"
      ]
     },
     "metadata": {},
     "execution_count": 514
    }
   ],
   "metadata": {}
  },
  {
   "cell_type": "code",
   "execution_count": 515,
   "source": [
    "tf.sqrt(H)"
   ],
   "outputs": [
    {
     "output_type": "execute_result",
     "data": {
      "text/plain": [
       "<tf.Tensor: shape=(9,), dtype=float32, numpy=\n",
       "array([0.99999994, 1.4142134 , 1.7320508 , 1.9999999 , 2.236068  ,\n",
       "       2.4494896 , 2.6457512 , 2.8284268 , 3.        ], dtype=float32)>"
      ]
     },
     "metadata": {},
     "execution_count": 515
    }
   ],
   "metadata": {}
  },
  {
   "cell_type": "code",
   "execution_count": 519,
   "source": [
    "H = tf.cast(H, dtype=tf.int32)\r\n",
    "H.dtype, H"
   ],
   "outputs": [
    {
     "output_type": "execute_result",
     "data": {
      "text/plain": [
       "(tf.int32,\n",
       " <tf.Tensor: shape=(9,), dtype=int32, numpy=array([1, 2, 3, 4, 5, 6, 7, 8, 9])>)"
      ]
     },
     "metadata": {},
     "execution_count": 519
    }
   ],
   "metadata": {}
  },
  {
   "cell_type": "code",
   "execution_count": 520,
   "source": [
    "tf.math.log(H)"
   ],
   "outputs": [
    {
     "output_type": "error",
     "ename": "InvalidArgumentError",
     "evalue": "Value for attr 'T' of int32 is not in the list of allowed values: bfloat16, half, float, double, complex64, complex128\n\t; NodeDef: {{node Log}}; Op<name=Log; signature=x:T -> y:T; attr=T:type,allowed=[DT_BFLOAT16, DT_HALF, DT_FLOAT, DT_DOUBLE, DT_COMPLEX64, DT_COMPLEX128]> [Op:Log]",
     "traceback": [
      "\u001b[1;31m---------------------------------------------------------------------------\u001b[0m",
      "\u001b[1;31mInvalidArgumentError\u001b[0m                      Traceback (most recent call last)",
      "\u001b[1;32m~\\AppData\\Local\\Temp/ipykernel_14200/4057014817.py\u001b[0m in \u001b[0;36m<module>\u001b[1;34m\u001b[0m\n\u001b[1;32m----> 1\u001b[1;33m \u001b[0mtf\u001b[0m\u001b[1;33m.\u001b[0m\u001b[0mmath\u001b[0m\u001b[1;33m.\u001b[0m\u001b[0mlog\u001b[0m\u001b[1;33m(\u001b[0m\u001b[0mH\u001b[0m\u001b[1;33m)\u001b[0m\u001b[1;33m\u001b[0m\u001b[1;33m\u001b[0m\u001b[0m\n\u001b[0m",
      "\u001b[1;32mc:\\workspace\\lecture_tensorflow\\venv\\lib\\site-packages\\tensorflow\\python\\ops\\gen_math_ops.py\u001b[0m in \u001b[0;36mlog\u001b[1;34m(x, name)\u001b[0m\n\u001b[0;32m   5199\u001b[0m       \u001b[1;32mreturn\u001b[0m \u001b[0m_result\u001b[0m\u001b[1;33m\u001b[0m\u001b[1;33m\u001b[0m\u001b[0m\n\u001b[0;32m   5200\u001b[0m     \u001b[1;32mexcept\u001b[0m \u001b[0m_core\u001b[0m\u001b[1;33m.\u001b[0m\u001b[0m_NotOkStatusException\u001b[0m \u001b[1;32mas\u001b[0m \u001b[0me\u001b[0m\u001b[1;33m:\u001b[0m\u001b[1;33m\u001b[0m\u001b[1;33m\u001b[0m\u001b[0m\n\u001b[1;32m-> 5201\u001b[1;33m       \u001b[0m_ops\u001b[0m\u001b[1;33m.\u001b[0m\u001b[0mraise_from_not_ok_status\u001b[0m\u001b[1;33m(\u001b[0m\u001b[0me\u001b[0m\u001b[1;33m,\u001b[0m \u001b[0mname\u001b[0m\u001b[1;33m)\u001b[0m\u001b[1;33m\u001b[0m\u001b[1;33m\u001b[0m\u001b[0m\n\u001b[0m\u001b[0;32m   5202\u001b[0m     \u001b[1;32mexcept\u001b[0m \u001b[0m_core\u001b[0m\u001b[1;33m.\u001b[0m\u001b[0m_FallbackException\u001b[0m\u001b[1;33m:\u001b[0m\u001b[1;33m\u001b[0m\u001b[1;33m\u001b[0m\u001b[0m\n\u001b[0;32m   5203\u001b[0m       \u001b[1;32mpass\u001b[0m\u001b[1;33m\u001b[0m\u001b[1;33m\u001b[0m\u001b[0m\n",
      "\u001b[1;32mc:\\workspace\\lecture_tensorflow\\venv\\lib\\site-packages\\tensorflow\\python\\framework\\ops.py\u001b[0m in \u001b[0;36mraise_from_not_ok_status\u001b[1;34m(e, name)\u001b[0m\n\u001b[0;32m   6939\u001b[0m   \u001b[0mmessage\u001b[0m \u001b[1;33m=\u001b[0m \u001b[0me\u001b[0m\u001b[1;33m.\u001b[0m\u001b[0mmessage\u001b[0m \u001b[1;33m+\u001b[0m \u001b[1;33m(\u001b[0m\u001b[1;34m\" name: \"\u001b[0m \u001b[1;33m+\u001b[0m \u001b[0mname\u001b[0m \u001b[1;32mif\u001b[0m \u001b[0mname\u001b[0m \u001b[1;32mis\u001b[0m \u001b[1;32mnot\u001b[0m \u001b[1;32mNone\u001b[0m \u001b[1;32melse\u001b[0m \u001b[1;34m\"\"\u001b[0m\u001b[1;33m)\u001b[0m\u001b[1;33m\u001b[0m\u001b[1;33m\u001b[0m\u001b[0m\n\u001b[0;32m   6940\u001b[0m   \u001b[1;31m# pylint: disable=protected-access\u001b[0m\u001b[1;33m\u001b[0m\u001b[1;33m\u001b[0m\u001b[1;33m\u001b[0m\u001b[0m\n\u001b[1;32m-> 6941\u001b[1;33m   \u001b[0msix\u001b[0m\u001b[1;33m.\u001b[0m\u001b[0mraise_from\u001b[0m\u001b[1;33m(\u001b[0m\u001b[0mcore\u001b[0m\u001b[1;33m.\u001b[0m\u001b[0m_status_to_exception\u001b[0m\u001b[1;33m(\u001b[0m\u001b[0me\u001b[0m\u001b[1;33m.\u001b[0m\u001b[0mcode\u001b[0m\u001b[1;33m,\u001b[0m \u001b[0mmessage\u001b[0m\u001b[1;33m)\u001b[0m\u001b[1;33m,\u001b[0m \u001b[1;32mNone\u001b[0m\u001b[1;33m)\u001b[0m\u001b[1;33m\u001b[0m\u001b[1;33m\u001b[0m\u001b[0m\n\u001b[0m\u001b[0;32m   6942\u001b[0m   \u001b[1;31m# pylint: enable=protected-access\u001b[0m\u001b[1;33m\u001b[0m\u001b[1;33m\u001b[0m\u001b[1;33m\u001b[0m\u001b[0m\n\u001b[0;32m   6943\u001b[0m \u001b[1;33m\u001b[0m\u001b[0m\n",
      "\u001b[1;32mc:\\workspace\\lecture_tensorflow\\venv\\lib\\site-packages\\six.py\u001b[0m in \u001b[0;36mraise_from\u001b[1;34m(value, from_value)\u001b[0m\n",
      "\u001b[1;31mInvalidArgumentError\u001b[0m: Value for attr 'T' of int32 is not in the list of allowed values: bfloat16, half, float, double, complex64, complex128\n\t; NodeDef: {{node Log}}; Op<name=Log; signature=x:T -> y:T; attr=T:type,allowed=[DT_BFLOAT16, DT_HALF, DT_FLOAT, DT_DOUBLE, DT_COMPLEX64, DT_COMPLEX128]> [Op:Log]"
     ]
    }
   ],
   "metadata": {}
  },
  {
   "cell_type": "code",
   "execution_count": 521,
   "source": [
    "H = tf.cast(H, dtype=tf.float32)\r\n",
    "H.dtype, H"
   ],
   "outputs": [
    {
     "output_type": "execute_result",
     "data": {
      "text/plain": [
       "(tf.float32,\n",
       " <tf.Tensor: shape=(9,), dtype=float32, numpy=array([1., 2., 3., 4., 5., 6., 7., 8., 9.], dtype=float32)>)"
      ]
     },
     "metadata": {},
     "execution_count": 521
    }
   ],
   "metadata": {}
  },
  {
   "cell_type": "code",
   "execution_count": 523,
   "source": [
    "tf.math.log(H)"
   ],
   "outputs": [
    {
     "output_type": "execute_result",
     "data": {
      "text/plain": [
       "<tf.Tensor: shape=(9,), dtype=float32, numpy=\n",
       "array([0.       , 0.6931472, 1.0986123, 1.3862944, 1.609438 , 1.7917595,\n",
       "       1.9459102, 2.0794415, 2.1972246], dtype=float32)>"
      ]
     },
     "metadata": {},
     "execution_count": 523
    }
   ],
   "metadata": {}
  },
  {
   "cell_type": "code",
   "execution_count": 524,
   "source": [
    "I = tf.Variable(np.arange(0, 5))\r\n",
    "I"
   ],
   "outputs": [
    {
     "output_type": "execute_result",
     "data": {
      "text/plain": [
       "<tf.Variable 'Variable:0' shape=(5,) dtype=int32, numpy=array([0, 1, 2, 3, 4])>"
      ]
     },
     "metadata": {},
     "execution_count": 524
    }
   ],
   "metadata": {}
  },
  {
   "cell_type": "code",
   "execution_count": 525,
   "source": [
    "I.assign([0, 1, 2, 3, 50])"
   ],
   "outputs": [
    {
     "output_type": "execute_result",
     "data": {
      "text/plain": [
       "<tf.Variable 'UnreadVariable' shape=(5,) dtype=int32, numpy=array([ 0,  1,  2,  3, 50])>"
      ]
     },
     "metadata": {},
     "execution_count": 525
    }
   ],
   "metadata": {}
  },
  {
   "cell_type": "code",
   "execution_count": 526,
   "source": [
    "I"
   ],
   "outputs": [
    {
     "output_type": "execute_result",
     "data": {
      "text/plain": [
       "<tf.Variable 'Variable:0' shape=(5,) dtype=int32, numpy=array([ 0,  1,  2,  3, 50])>"
      ]
     },
     "metadata": {},
     "execution_count": 526
    }
   ],
   "metadata": {}
  },
  {
   "cell_type": "code",
   "execution_count": 527,
   "source": [
    "I.assign_add([10, 10, 10, 10, 10])"
   ],
   "outputs": [
    {
     "output_type": "execute_result",
     "data": {
      "text/plain": [
       "<tf.Variable 'UnreadVariable' shape=(5,) dtype=int32, numpy=array([10, 11, 12, 13, 60])>"
      ]
     },
     "metadata": {},
     "execution_count": 527
    }
   ],
   "metadata": {}
  },
  {
   "cell_type": "code",
   "execution_count": 528,
   "source": [
    "I"
   ],
   "outputs": [
    {
     "output_type": "execute_result",
     "data": {
      "text/plain": [
       "<tf.Variable 'Variable:0' shape=(5,) dtype=int32, numpy=array([10, 11, 12, 13, 60])>"
      ]
     },
     "metadata": {},
     "execution_count": 528
    }
   ],
   "metadata": {}
  },
  {
   "cell_type": "code",
   "execution_count": 533,
   "source": [
    "# NumPy array를 통해서 tensor를 생성\r\n",
    "J = tf.constant(np.array([3., 7., 10.]))\r\n",
    "J, type(J), J.numpy()"
   ],
   "outputs": [
    {
     "output_type": "execute_result",
     "data": {
      "text/plain": [
       "(<tf.Tensor: shape=(3,), dtype=float64, numpy=array([ 3.,  7., 10.])>,\n",
       " tensorflow.python.framework.ops.EagerTensor,\n",
       " array([ 3.,  7., 10.]))"
      ]
     },
     "metadata": {},
     "execution_count": 533
    }
   ],
   "metadata": {}
  },
  {
   "cell_type": "code",
   "execution_count": 531,
   "source": [
    "np.array(J), type(np.array(J))"
   ],
   "outputs": [
    {
     "output_type": "execute_result",
     "data": {
      "text/plain": [
       "(array([ 3.,  7., 10.]), numpy.ndarray)"
      ]
     },
     "metadata": {},
     "execution_count": 531
    }
   ],
   "metadata": {}
  },
  {
   "cell_type": "code",
   "execution_count": 534,
   "source": [
    "J.numpy(), type(J.numpy())"
   ],
   "outputs": [
    {
     "output_type": "execute_result",
     "data": {
      "text/plain": [
       "(array([ 3.,  7., 10.]), numpy.ndarray)"
      ]
     },
     "metadata": {},
     "execution_count": 534
    }
   ],
   "metadata": {}
  },
  {
   "cell_type": "code",
   "execution_count": 535,
   "source": [
    "numpy_J = tf.constant(np.array([3., 7., 10.]))\r\n",
    "tensor_J = tf.constant([3., 7., 10.])\r\n",
    "numpy_J, tensor_J"
   ],
   "outputs": [
    {
     "output_type": "execute_result",
     "data": {
      "text/plain": [
       "(<tf.Tensor: shape=(3,), dtype=float64, numpy=array([ 3.,  7., 10.])>,\n",
       " <tf.Tensor: shape=(3,), dtype=float32, numpy=array([ 3.,  7., 10.], dtype=float32)>)"
      ]
     },
     "metadata": {},
     "execution_count": 535
    }
   ],
   "metadata": {}
  },
  {
   "cell_type": "code",
   "execution_count": 536,
   "source": [
    "numpy_J.dtype, tensor_J.dtype"
   ],
   "outputs": [
    {
     "output_type": "execute_result",
     "data": {
      "text/plain": [
       "(tf.float64, tf.float32)"
      ]
     },
     "metadata": {},
     "execution_count": 536
    }
   ],
   "metadata": {}
  },
  {
   "cell_type": "code",
   "execution_count": 542,
   "source": [
    "def function(x, y):\r\n",
    "    return x ** 2 + y"
   ],
   "outputs": [],
   "metadata": {}
  },
  {
   "cell_type": "code",
   "execution_count": 543,
   "source": [
    "x = tf.constant(np.arange(0, 10))\r\n",
    "y = tf.constant(np.arange(10, 20))\r\n",
    "function(x, y)"
   ],
   "outputs": [
    {
     "output_type": "execute_result",
     "data": {
      "text/plain": [
       "<tf.Tensor: shape=(10,), dtype=int32, numpy=array([ 10,  12,  16,  22,  30,  40,  52,  66,  82, 100])>"
      ]
     },
     "metadata": {},
     "execution_count": 543
    }
   ],
   "metadata": {}
  },
  {
   "cell_type": "code",
   "execution_count": 544,
   "source": [
    "@tf.function # decorator\r\n",
    "def tf_function(x, y):\r\n",
    "    return x ** 2 + y"
   ],
   "outputs": [],
   "metadata": {}
  },
  {
   "cell_type": "code",
   "execution_count": 545,
   "source": [
    "tf_function(x, y)"
   ],
   "outputs": [
    {
     "output_type": "execute_result",
     "data": {
      "text/plain": [
       "<tf.Tensor: shape=(10,), dtype=int32, numpy=array([ 10,  12,  16,  22,  30,  40,  52,  66,  82, 100])>"
      ]
     },
     "metadata": {},
     "execution_count": 545
    }
   ],
   "metadata": {}
  },
  {
   "cell_type": "code",
   "execution_count": 547,
   "source": [
    "print(tf.config.list_physical_devices(\"GPU\"))"
   ],
   "outputs": [
    {
     "output_type": "stream",
     "name": "stdout",
     "text": [
      "[]\n"
     ]
    }
   ],
   "metadata": {}
  },
  {
   "cell_type": "code",
   "execution_count": 548,
   "source": [
    "!nvidia-smi"
   ],
   "outputs": [
    {
     "output_type": "stream",
     "name": "stdout",
     "text": [
      "Sat Aug 21 14:05:31 2021       \n",
      "+-----------------------------------------------------------------------------+\n",
      "| NVIDIA-SMI 471.11       Driver Version: 471.11       CUDA Version: 11.4     |\n",
      "|-------------------------------+----------------------+----------------------+\n",
      "| GPU  Name            TCC/WDDM | Bus-Id        Disp.A | Volatile Uncorr. ECC |\n",
      "| Fan  Temp  Perf  Pwr:Usage/Cap|         Memory-Usage | GPU-Util  Compute M. |\n",
      "|                               |                      |               MIG M. |\n",
      "|===============================+======================+======================|\n",
      "|   0  NVIDIA GeForce ... WDDM  | 00000000:01:00.0  On |                  N/A |\n",
      "| N/A   50C    P5    14W /  N/A |    626MiB /  8192MiB |     17%      Default |\n",
      "|                               |                      |                  N/A |\n",
      "+-------------------------------+----------------------+----------------------+\n",
      "                                                                               \n",
      "+-----------------------------------------------------------------------------+\n",
      "| Processes:                                                                  |\n",
      "|  GPU   GI   CI        PID   Type   Process name                  GPU Memory |\n",
      "|        ID   ID                                                   Usage      |\n",
      "|=============================================================================|\n",
      "|    0   N/A  N/A      5160    C+G   ...iles\\VideoLAN\\VLC\\vlc.exe    N/A      |\n",
      "|    0   N/A  N/A     13924    C+G   ...ming\\Zoom\\bin\\CptHost.exe    N/A      |\n",
      "|    0   N/A  N/A     17804    C+G   ...0\\HOffice110\\Bin\\Hpdf.exe    N/A      |\n",
      "|    0   N/A  N/A     20668    C+G   Insufficient Permissions        N/A      |\n",
      "+-----------------------------------------------------------------------------+\n"
     ]
    }
   ],
   "metadata": {}
  },
  {
   "cell_type": "code",
   "execution_count": 559,
   "source": [
    "# 1. tf.constant()를 사용하여 임의의 값으로 스칼라, 벡터, 행렬 및 텐서를 생성합니다.\r\n",
    "\r\n",
    "scalar = tf.constant(5)\r\n",
    "vector = tf.constant([5, 10])\r\n",
    "matrix = tf.constant([\r\n",
    "    [1, 2],\r\n",
    "    [3, 4]\r\n",
    "])\r\n",
    "tensor = tf.constant([\r\n",
    "    [\r\n",
    "        [1, 2],\r\n",
    "        [3, 4]\r\n",
    "    ],\r\n",
    "    [\r\n",
    "        [5, 6],\r\n",
    "        [7, 8]\r\n",
    "    ],\r\n",
    "    [\r\n",
    "        [9, 10],\r\n",
    "        [11, 12]\r\n",
    "    ]    \r\n",
    "])"
   ],
   "outputs": [],
   "metadata": {}
  },
  {
   "cell_type": "code",
   "execution_count": 560,
   "source": [
    "# 2. 1에서 생성한 텐서들의 shape, rank, size를 찾습니다.\r\n",
    "\r\n",
    "print(f\"{scalar.shape} {scalar.ndim} {tf.size(scalar)}\")\r\n",
    "print(f\"{vector.shape} {vector.ndim} {tf.size(vector)}\")\r\n",
    "print(f\"{matrix.shape} {matrix.ndim} {tf.size(matrix)}\")\r\n",
    "print(f\"{tensor.shape} {tensor.ndim} {tf.size(tensor)}\")\r\n"
   ],
   "outputs": [
    {
     "output_type": "stream",
     "name": "stdout",
     "text": [
      "() 0 1\n",
      "(2,) 1 2\n",
      "(2, 2) 2 4\n",
      "(3, 2, 2) 3 12\n"
     ]
    }
   ],
   "metadata": {}
  },
  {
   "cell_type": "code",
   "execution_count": 570,
   "source": [
    "# 3. shape가 [5, 300]인 0과 1 사이의 임의 값을 포함하는 두 개의 텐서를 만듭니다.\r\n",
    "import numpy as np\r\n",
    "\r\n",
    "X = tf.constant(np.random.rand(1500))\r\n",
    "Y = tf.constant(np.random.rand(1500))\r\n",
    "X, Y, X.ndim, Y.ndim"
   ],
   "outputs": [
    {
     "output_type": "execute_result",
     "data": {
      "text/plain": [
       "(<tf.Tensor: shape=(1500,), dtype=float64, numpy=\n",
       " array([0.25172821, 0.34069463, 0.91721775, ..., 0.35373977, 0.18653112,\n",
       "        0.34566601])>,\n",
       " <tf.Tensor: shape=(1500,), dtype=float64, numpy=\n",
       " array([0.18579403, 0.87594322, 0.35472359, ..., 0.82182493, 0.92495491,\n",
       "        0.06755388])>,\n",
       " 1,\n",
       " 1)"
      ]
     },
     "metadata": {},
     "execution_count": 570
    }
   ],
   "metadata": {}
  },
  {
   "cell_type": "code",
   "execution_count": 571,
   "source": [
    "X = tf.constant(np.random.rand(1500), shape=(5, 300))\r\n",
    "Y = tf.constant(np.random.rand(1500), shape=(5, 300))\r\n",
    "X, Y, X.ndim, Y.ndim"
   ],
   "outputs": [
    {
     "output_type": "execute_result",
     "data": {
      "text/plain": [
       "(<tf.Tensor: shape=(5, 300), dtype=float64, numpy=\n",
       " array([[0.45945573, 0.58541189, 0.21579096, ..., 0.41195327, 0.23753993,\n",
       "         0.50234401],\n",
       "        [0.13954636, 0.4130939 , 0.4082819 , ..., 0.36610711, 0.08672451,\n",
       "         0.720673  ],\n",
       "        [0.39744447, 0.66519582, 0.91658206, ..., 0.16313421, 0.40118322,\n",
       "         0.35979915],\n",
       "        [0.99339875, 0.40613344, 0.02181309, ..., 0.91930236, 0.89878013,\n",
       "         0.58065203],\n",
       "        [0.90092088, 0.69371789, 0.07856497, ..., 0.09711707, 0.77843792,\n",
       "         0.96813867]])>,\n",
       " <tf.Tensor: shape=(5, 300), dtype=float64, numpy=\n",
       " array([[0.71399224, 0.07877675, 0.8343302 , ..., 0.75599707, 0.93187985,\n",
       "         0.71684539],\n",
       "        [0.97147782, 0.613196  , 0.70627637, ..., 0.09429307, 0.30689902,\n",
       "         0.60385951],\n",
       "        [0.26436675, 0.75560679, 0.08045951, ..., 0.31854473, 0.21606114,\n",
       "         0.45281002],\n",
       "        [0.76198305, 0.32529663, 0.63847153, ..., 0.13352697, 0.72140872,\n",
       "         0.75221584],\n",
       "        [0.21387929, 0.52934142, 0.75987779, ..., 0.5142397 , 0.75886719,\n",
       "         0.3249405 ]])>,\n",
       " 2,\n",
       " 2)"
      ]
     },
     "metadata": {},
     "execution_count": 571
    }
   ],
   "metadata": {}
  },
  {
   "cell_type": "code",
   "execution_count": 573,
   "source": [
    "# 4. 행렬 곱 (matrix multiplication)을 사용하여 3에서 만든 두 텐서를 곱합니다.\r\n",
    "\r\n",
    "# (5, 300) @ (5, 300)\r\n",
    "# X @ Y\r\n",
    "\r\n",
    "# reshape를 이용\r\n",
    "# Case 1 : (5, 300) @ (300, 5)\r\n",
    "X @ tf.reshape(Y, shape=(300, 5))"
   ],
   "outputs": [
    {
     "output_type": "execute_result",
     "data": {
      "text/plain": [
       "<tf.Tensor: shape=(5, 5), dtype=float64, numpy=\n",
       "array([[68.58019753, 71.72824122, 72.40280139, 75.10215198, 75.044012  ],\n",
       "       [75.11258181, 71.15300052, 74.57319375, 79.29245354, 75.99059257],\n",
       "       [72.12087692, 74.20209015, 76.26150251, 79.45775244, 76.92676935],\n",
       "       [71.61426073, 72.11707874, 74.18665501, 77.86604305, 72.0769495 ],\n",
       "       [72.52051614, 75.05565836, 74.60956711, 79.86645467, 75.12904321]])>"
      ]
     },
     "metadata": {},
     "execution_count": 573
    }
   ],
   "metadata": {}
  },
  {
   "cell_type": "code",
   "execution_count": 584,
   "source": [
    "tf.matmul(X, tf.reshape(Y, shape=(300, 5)))"
   ],
   "outputs": [
    {
     "output_type": "execute_result",
     "data": {
      "text/plain": [
       "<tf.Tensor: shape=(5, 5), dtype=float64, numpy=\n",
       "array([[68.58019753, 71.72824122, 72.40280139, 75.10215198, 75.044012  ],\n",
       "       [75.11258181, 71.15300052, 74.57319375, 79.29245354, 75.99059257],\n",
       "       [72.12087692, 74.20209015, 76.26150251, 79.45775244, 76.92676935],\n",
       "       [71.61426073, 72.11707874, 74.18665501, 77.86604305, 72.0769495 ],\n",
       "       [72.52051614, 75.05565836, 74.60956711, 79.86645467, 75.12904321]])>"
      ]
     },
     "metadata": {},
     "execution_count": 584
    }
   ],
   "metadata": {}
  },
  {
   "cell_type": "code",
   "execution_count": 576,
   "source": [
    "# Case 2 : (300, 5) @ (5, 300)\r\n",
    "tf.reshape(X, shape=(300, 5)) @ Y"
   ],
   "outputs": [
    {
     "output_type": "execute_result",
     "data": {
      "text/plain": [
       "<tf.Tensor: shape=(300, 300), dtype=float64, numpy=\n",
       "array([[1.19692139, 0.84805335, 1.26449541, ..., 0.71638401, 1.12092088,\n",
       "        1.06890802],\n",
       "       [1.93819123, 1.58182051, 1.91317355, ..., 1.05264172, 1.74076671,\n",
       "        1.79983986],\n",
       "       [1.38305011, 1.22540908, 1.66967719, ..., 1.01210597, 1.71492021,\n",
       "        1.45725162],\n",
       "       ...,\n",
       "       [2.01590936, 1.33814883, 1.7836031 , ..., 0.88418403, 1.69436219,\n",
       "        1.86502615],\n",
       "       [1.07678815, 0.61000404, 1.45858772, ..., 1.05907614, 1.55168863,\n",
       "        1.13760018],\n",
       "       [2.06267227, 1.25830014, 2.44602466, ..., 1.42015719, 2.39440802,\n",
       "        1.97823824]])>"
      ]
     },
     "metadata": {},
     "execution_count": 576
    }
   ],
   "metadata": {}
  },
  {
   "cell_type": "code",
   "execution_count": 585,
   "source": [
    "tf.matmul(tf.reshape(X, shape=(300, 5)), Y)"
   ],
   "outputs": [
    {
     "output_type": "execute_result",
     "data": {
      "text/plain": [
       "<tf.Tensor: shape=(300, 300), dtype=float64, numpy=\n",
       "array([[1.19692139, 0.84805335, 1.26449541, ..., 0.71638401, 1.12092088,\n",
       "        1.06890802],\n",
       "       [1.93819123, 1.58182051, 1.91317355, ..., 1.05264172, 1.74076671,\n",
       "        1.79983986],\n",
       "       [1.38305011, 1.22540908, 1.66967719, ..., 1.01210597, 1.71492021,\n",
       "        1.45725162],\n",
       "       ...,\n",
       "       [2.01590936, 1.33814883, 1.7836031 , ..., 0.88418403, 1.69436219,\n",
       "        1.86502615],\n",
       "       [1.07678815, 0.61000404, 1.45858772, ..., 1.05907614, 1.55168863,\n",
       "        1.13760018],\n",
       "       [2.06267227, 1.25830014, 2.44602466, ..., 1.42015719, 2.39440802,\n",
       "        1.97823824]])>"
      ]
     },
     "metadata": {},
     "execution_count": 585
    }
   ],
   "metadata": {}
  },
  {
   "cell_type": "code",
   "execution_count": 578,
   "source": [
    "# transpose를 이용\r\n",
    "# Case 1 : (5, 300) @ (300, 5)\r\n",
    "X @ tf.transpose(Y)"
   ],
   "outputs": [
    {
     "output_type": "execute_result",
     "data": {
      "text/plain": [
       "<tf.Tensor: shape=(5, 5), dtype=float64, numpy=\n",
       "array([[76.8465205 , 73.14833384, 80.47518811, 67.21236723, 73.08213235],\n",
       "       [76.15957359, 71.48222079, 77.68378493, 68.71006607, 75.90527128],\n",
       "       [77.27708223, 73.86621596, 79.20370104, 70.0006797 , 75.44588704],\n",
       "       [78.12622791, 72.33712608, 78.79522108, 66.56554064, 75.98140341],\n",
       "       [78.71084802, 74.9539001 , 80.39689452, 73.699451  , 72.06528762]])>"
      ]
     },
     "metadata": {},
     "execution_count": 578
    }
   ],
   "metadata": {}
  },
  {
   "cell_type": "code",
   "execution_count": 586,
   "source": [
    "tf.matmul(X, tf.transpose(Y))"
   ],
   "outputs": [
    {
     "output_type": "execute_result",
     "data": {
      "text/plain": [
       "<tf.Tensor: shape=(5, 5), dtype=float64, numpy=\n",
       "array([[76.8465205 , 73.14833384, 80.47518811, 67.21236723, 73.08213235],\n",
       "       [76.15957359, 71.48222079, 77.68378493, 68.71006607, 75.90527128],\n",
       "       [77.27708223, 73.86621596, 79.20370104, 70.0006797 , 75.44588704],\n",
       "       [78.12622791, 72.33712608, 78.79522108, 66.56554064, 75.98140341],\n",
       "       [78.71084802, 74.9539001 , 80.39689452, 73.699451  , 72.06528762]])>"
      ]
     },
     "metadata": {},
     "execution_count": 586
    }
   ],
   "metadata": {}
  },
  {
   "cell_type": "code",
   "execution_count": 579,
   "source": [
    "# Case 2 : (300, 5) @ (5, 300)\r\n",
    "tf.transpose(X) @ Y"
   ],
   "outputs": [
    {
     "output_type": "execute_result",
     "data": {
      "text/plain": [
       "<tf.Tensor: shape=(300, 300), dtype=float64, numpy=\n",
       "array([[1.51832645, 1.22211944, 1.83272087, ..., 1.08304409, 1.9571823 ,\n",
       "        1.63358792],\n",
       "       [1.45298546, 1.3013783 , 1.62015207, ..., 1.10438324, 1.63546258,\n",
       "        1.50122488],\n",
       "       [0.82644833, 1.00861518, 0.61577533, ..., 0.53692174, 0.59978686,\n",
       "        0.8582083 ],\n",
       "       ...,\n",
       "       [1.41418779, 0.73066712, 1.27614905, ..., 0.57061549, 1.26838753,\n",
       "        1.31332394],\n",
       "       [1.21125908, 1.07945808, 1.45708043, ..., 0.83586688, 1.57377327,\n",
       "        1.33333126],\n",
       "       [1.8034183 , 1.45471355, 2.06346121, ..., 1.13772524, 1.92061282,\n",
       "        1.70957201]])>"
      ]
     },
     "metadata": {},
     "execution_count": 579
    }
   ],
   "metadata": {}
  },
  {
   "cell_type": "code",
   "execution_count": 587,
   "source": [
    "tf.matmul(tf.transpose(X), Y)"
   ],
   "outputs": [
    {
     "output_type": "execute_result",
     "data": {
      "text/plain": [
       "<tf.Tensor: shape=(300, 300), dtype=float64, numpy=\n",
       "array([[1.51832645, 1.22211944, 1.83272087, ..., 1.08304409, 1.9571823 ,\n",
       "        1.63358792],\n",
       "       [1.45298546, 1.3013783 , 1.62015207, ..., 1.10438324, 1.63546258,\n",
       "        1.50122488],\n",
       "       [0.82644833, 1.00861518, 0.61577533, ..., 0.53692174, 0.59978686,\n",
       "        0.8582083 ],\n",
       "       ...,\n",
       "       [1.41418779, 0.73066712, 1.27614905, ..., 0.57061549, 1.26838753,\n",
       "        1.31332394],\n",
       "       [1.21125908, 1.07945808, 1.45708043, ..., 0.83586688, 1.57377327,\n",
       "        1.33333126],\n",
       "       [1.8034183 , 1.45471355, 2.06346121, ..., 1.13772524, 1.92061282,\n",
       "        1.70957201]])>"
      ]
     },
     "metadata": {},
     "execution_count": 587
    }
   ],
   "metadata": {}
  },
  {
   "cell_type": "code",
   "execution_count": 589,
   "source": [
    "# 5. 내적을 사용하여 3에서 만든 두 개의 텐서를 곱합니다.\r\n",
    "tf.tensordot(X, tf.transpose(Y), axes = 1)"
   ],
   "outputs": [
    {
     "output_type": "execute_result",
     "data": {
      "text/plain": [
       "<tf.Tensor: shape=(5, 5), dtype=float64, numpy=\n",
       "array([[76.8465205 , 73.14833384, 80.47518811, 67.21236723, 73.08213235],\n",
       "       [76.15957359, 71.48222079, 77.68378493, 68.71006607, 75.90527128],\n",
       "       [77.27708223, 73.86621596, 79.20370104, 70.0006797 , 75.44588704],\n",
       "       [78.12622791, 72.33712608, 78.79522108, 66.56554064, 75.98140341],\n",
       "       [78.71084802, 74.9539001 , 80.39689452, 73.699451  , 72.06528762]])>"
      ]
     },
     "metadata": {},
     "execution_count": 589
    }
   ],
   "metadata": {}
  },
  {
   "cell_type": "code",
   "execution_count": 590,
   "source": [
    "tf.tensordot(tf.transpose(X), Y, axes = 1)"
   ],
   "outputs": [
    {
     "output_type": "execute_result",
     "data": {
      "text/plain": [
       "<tf.Tensor: shape=(300, 300), dtype=float64, numpy=\n",
       "array([[1.51832645, 1.22211944, 1.83272087, ..., 1.08304409, 1.9571823 ,\n",
       "        1.63358792],\n",
       "       [1.45298546, 1.3013783 , 1.62015207, ..., 1.10438324, 1.63546258,\n",
       "        1.50122488],\n",
       "       [0.82644833, 1.00861518, 0.61577533, ..., 0.53692174, 0.59978686,\n",
       "        0.8582083 ],\n",
       "       ...,\n",
       "       [1.41418779, 0.73066712, 1.27614905, ..., 0.57061549, 1.26838753,\n",
       "        1.31332394],\n",
       "       [1.21125908, 1.07945808, 1.45708043, ..., 0.83586688, 1.57377327,\n",
       "        1.33333126],\n",
       "       [1.8034183 , 1.45471355, 2.06346121, ..., 1.13772524, 1.92061282,\n",
       "        1.70957201]])>"
      ]
     },
     "metadata": {},
     "execution_count": 590
    }
   ],
   "metadata": {}
  },
  {
   "cell_type": "code",
   "execution_count": 595,
   "source": [
    "# 6. shape가 [224, 224, 3]인 0과 100사이의 임의 값으로 텐서를 만듭니다.\r\n",
    "\r\n",
    "my_tensor = tf.constant(np.random.randint(0, 200000, 150528), shape=(224, 224, 3))\r\n",
    "my_tensor, my_tensor.shape, my_tensor.ndim, tf.size(my_tensor)"
   ],
   "outputs": [
    {
     "output_type": "execute_result",
     "data": {
      "text/plain": [
       "(<tf.Tensor: shape=(224, 224, 3), dtype=int32, numpy=\n",
       " array([[[143457, 194487,  32063],\n",
       "         [ 78972, 107139, 101385],\n",
       "         [ 79306, 127105,  66813],\n",
       "         ...,\n",
       "         [ 38966, 104580, 151984],\n",
       "         [187488, 108010, 138551],\n",
       "         [168382,  74838, 105196]],\n",
       " \n",
       "        [[168406, 113533, 125788],\n",
       "         [108466,  45864,  42150],\n",
       "         [189369, 160555,  37035],\n",
       "         ...,\n",
       "         [ 89430, 149731, 165122],\n",
       "         [ 95176,  97232, 198990],\n",
       "         [154531, 175806, 123591]],\n",
       " \n",
       "        [[101786,  73692, 140913],\n",
       "         [110536, 168969, 103178],\n",
       "         [ 71003,   2838,  56781],\n",
       "         ...,\n",
       "         [ 44296,  89497,  32666],\n",
       "         [198315, 106726, 188169],\n",
       "         [  3899,  36241,  95294]],\n",
       " \n",
       "        ...,\n",
       " \n",
       "        [[ 23944,  14696, 156890],\n",
       "         [ 63794,  76509, 113978],\n",
       "         [ 29444,  35691, 178846],\n",
       "         ...,\n",
       "         [ 70043,  95618, 175077],\n",
       "         [117564, 175871, 115047],\n",
       "         [ 50143,  22176, 135680]],\n",
       " \n",
       "        [[ 41275,  32710, 189105],\n",
       "         [ 18444,  92897,  50029],\n",
       "         [142658,  16794,  63552],\n",
       "         ...,\n",
       "         [129496,  67209,  42473],\n",
       "         [  3852,  61427,  70970],\n",
       "         [ 23658, 101150,   8381]],\n",
       " \n",
       "        [[ 34315, 132100, 183148],\n",
       "         [105606, 160318,  96817],\n",
       "         [148458, 130790, 117969],\n",
       "         ...,\n",
       "         [ 30802,  78674,  49684],\n",
       "         [146470, 148047, 100273],\n",
       "         [ 88946,  78887, 114378]]])>,\n",
       " TensorShape([224, 224, 3]),\n",
       " 3,\n",
       " <tf.Tensor: shape=(), dtype=int32, numpy=150528>)"
      ]
     },
     "metadata": {},
     "execution_count": 595
    }
   ],
   "metadata": {}
  },
  {
   "cell_type": "code",
   "execution_count": 600,
   "source": [
    "# 7. 6에서 생성한 텐서의 최소값과 최대값을 찾습니다.\r\n",
    "\r\n",
    "tf.reduce_max(my_tensor), tf.reduce_min(my_tensor)"
   ],
   "outputs": [
    {
     "output_type": "execute_result",
     "data": {
      "text/plain": [
       "(<tf.Tensor: shape=(), dtype=int32, numpy=199997>,\n",
       " <tf.Tensor: shape=(), dtype=int32, numpy=0>)"
      ]
     },
     "metadata": {},
     "execution_count": 600
    }
   ],
   "metadata": {}
  },
  {
   "cell_type": "code",
   "execution_count": 601,
   "source": [
    "tf.argmax(my_tensor), tf.argmin(my_tensor)"
   ],
   "outputs": [
    {
     "output_type": "execute_result",
     "data": {
      "text/plain": [
       "(<tf.Tensor: shape=(224, 3), dtype=int64, numpy=\n",
       " array([[ 12,  80,  15],\n",
       "        [ 59, 102, 142],\n",
       "        [114,  37,  69],\n",
       "        [194,  46, 111],\n",
       "        [157, 124,  45],\n",
       "        [ 37, 113,  29],\n",
       "        [109, 116, 123],\n",
       "        [109,  67,  65],\n",
       "        [134, 190,  88],\n",
       "        [ 76,  82, 155],\n",
       "        [151, 138,  59],\n",
       "        [ 22,  67, 193],\n",
       "        [117, 154, 103],\n",
       "        [178, 217, 167],\n",
       "        [119, 173,  25],\n",
       "        [191,   4, 195],\n",
       "        [ 95, 201, 140],\n",
       "        [113,  29, 182],\n",
       "        [220,  55, 124],\n",
       "        [184, 193, 132],\n",
       "        [ 22, 136,  31],\n",
       "        [ 10, 209,  41],\n",
       "        [216, 160, 161],\n",
       "        [195,  30,   6],\n",
       "        [124,  52,  15],\n",
       "        [ 34, 150,  97],\n",
       "        [ 72, 158, 217],\n",
       "        [ 38, 134, 115],\n",
       "        [110, 166,  91],\n",
       "        [162,  24, 185],\n",
       "        [176,   7, 175],\n",
       "        [175, 162,  78],\n",
       "        [ 36, 109, 213],\n",
       "        [171, 139,  53],\n",
       "        [135, 203, 165],\n",
       "        [110, 107,   3],\n",
       "        [115,  73, 173],\n",
       "        [121, 210,  84],\n",
       "        [154, 197,  93],\n",
       "        [130,   3, 116],\n",
       "        [ 70, 195,  92],\n",
       "        [ 35,  92, 134],\n",
       "        [127, 153, 106],\n",
       "        [183, 104, 138],\n",
       "        [ 28, 103, 126],\n",
       "        [200, 160,  67],\n",
       "        [ 50, 175, 117],\n",
       "        [174, 173, 113],\n",
       "        [211,  18,  75],\n",
       "        [ 80, 147,  32],\n",
       "        [205,  60,  38],\n",
       "        [103, 215, 161],\n",
       "        [190, 109,  30],\n",
       "        [ 14,  81, 201],\n",
       "        [ 36,  64, 131],\n",
       "        [190, 167, 142],\n",
       "        [ 40,  52, 181],\n",
       "        [211,  30,   9],\n",
       "        [211, 217, 138],\n",
       "        [ 73, 161, 132],\n",
       "        [ 46,  21, 123],\n",
       "        [ 75,  69, 146],\n",
       "        [210, 176, 140],\n",
       "        [137,   9,  92],\n",
       "        [138, 200,  10],\n",
       "        [ 21,  65, 196],\n",
       "        [ 46,  97, 107],\n",
       "        [ 78, 151, 124],\n",
       "        [ 74, 212,  56],\n",
       "        [107, 154,  80],\n",
       "        [217, 114,  46],\n",
       "        [126, 172, 162],\n",
       "        [223,  79,  34],\n",
       "        [ 39,  22,  76],\n",
       "        [ 84,  12,  21],\n",
       "        [210,  83,  52],\n",
       "        [130, 216, 219],\n",
       "        [148,  35, 124],\n",
       "        [136,   6, 144],\n",
       "        [158, 150, 155],\n",
       "        [ 79,  81, 117],\n",
       "        [163,  81, 167],\n",
       "        [168, 103,  65],\n",
       "        [114, 164,  76],\n",
       "        [ 80, 131, 164],\n",
       "        [ 24,  23, 218],\n",
       "        [184,  72,  57],\n",
       "        [ 90, 156, 159],\n",
       "        [ 75,  79, 193],\n",
       "        [ 81,   6, 131],\n",
       "        [ 41,  58, 144],\n",
       "        [121,  29,  73],\n",
       "        [109, 141, 202],\n",
       "        [159,  52,  22],\n",
       "        [216,  73, 189],\n",
       "        [121, 207, 213],\n",
       "        [ 98, 175,  83],\n",
       "        [ 78, 158, 130],\n",
       "        [ 17, 159, 141],\n",
       "        [ 51, 141,  83],\n",
       "        [ 57, 169,  44],\n",
       "        [197,  86,  12],\n",
       "        [119, 128, 191],\n",
       "        [ 82, 221,  93],\n",
       "        [110, 208,  80],\n",
       "        [138, 206, 177],\n",
       "        [ 85, 177, 205],\n",
       "        [ 96, 194, 211],\n",
       "        [113, 137, 114],\n",
       "        [220, 159, 167],\n",
       "        [ 95,  19,  19],\n",
       "        [145,  45, 101],\n",
       "        [192, 222, 154],\n",
       "        [130,  90, 184],\n",
       "        [130,  24,  80],\n",
       "        [ 30,  13, 174],\n",
       "        [133, 175, 178],\n",
       "        [135, 100, 119],\n",
       "        [ 89, 143,  73],\n",
       "        [ 60, 139, 127],\n",
       "        [ 78,  13, 109],\n",
       "        [ 58, 192,  65],\n",
       "        [ 41, 110,  22],\n",
       "        [ 93, 163,  36],\n",
       "        [115, 120, 166],\n",
       "        [151,  52,  37],\n",
       "        [167,  67, 172],\n",
       "        [122,  44, 140],\n",
       "        [  9,  94, 154],\n",
       "        [106,  56,  87],\n",
       "        [ 94, 185,  92],\n",
       "        [ 16, 152, 165],\n",
       "        [207,  65, 183],\n",
       "        [ 65,  92, 104],\n",
       "        [146,  70, 177],\n",
       "        [213, 142, 210],\n",
       "        [ 25,  30,  59],\n",
       "        [210,  75, 122],\n",
       "        [128,  99, 189],\n",
       "        [ 60,  77, 137],\n",
       "        [ 11,   8, 178],\n",
       "        [ 71, 205, 138],\n",
       "        [141,  70,  82],\n",
       "        [ 58,  92, 102],\n",
       "        [140, 177, 106],\n",
       "        [120,  71, 174],\n",
       "        [ 72, 187,  40],\n",
       "        [ 38, 148, 211],\n",
       "        [134, 129,  66],\n",
       "        [179, 124, 198],\n",
       "        [ 74,  33,  51],\n",
       "        [  4, 149, 165],\n",
       "        [ 39, 186, 108],\n",
       "        [119, 218,   5],\n",
       "        [ 67,  45,  96],\n",
       "        [189,  47, 178],\n",
       "        [ 37, 154, 189],\n",
       "        [152,  69,  51],\n",
       "        [142, 126,  21],\n",
       "        [145,   3, 176],\n",
       "        [ 14, 205, 114],\n",
       "        [104,  32, 105],\n",
       "        [ 14, 102, 186],\n",
       "        [214, 105, 189],\n",
       "        [  2,  86,  41],\n",
       "        [185, 195, 186],\n",
       "        [197, 103,  75],\n",
       "        [129, 220, 184],\n",
       "        [ 95, 168, 223],\n",
       "        [ 10,  66,  58],\n",
       "        [ 89, 170,  39],\n",
       "        [124,  20, 157],\n",
       "        [214, 204,   9],\n",
       "        [ 18, 145,  72],\n",
       "        [142,  76,   9],\n",
       "        [174, 180, 171],\n",
       "        [ 69,  33, 192],\n",
       "        [ 85,  26,  19],\n",
       "        [  6,  38, 127],\n",
       "        [ 78,  39, 201],\n",
       "        [175,  81, 122],\n",
       "        [109, 102,  30],\n",
       "        [ 42,   1,  77],\n",
       "        [221,  38, 197],\n",
       "        [ 58,  32,  87],\n",
       "        [ 61,   5, 144],\n",
       "        [139,  49, 174],\n",
       "        [ 52, 169, 101],\n",
       "        [ 91, 200, 129],\n",
       "        [116,  84, 124],\n",
       "        [208,   2, 188],\n",
       "        [122,  59, 115],\n",
       "        [202, 192,  13],\n",
       "        [206,  19, 192],\n",
       "        [ 51, 214, 206],\n",
       "        [  1,  41, 110],\n",
       "        [ 57, 106, 156],\n",
       "        [199, 177, 179],\n",
       "        [127, 102,  30],\n",
       "        [212, 155, 145],\n",
       "        [ 53,  82, 217],\n",
       "        [ 62, 144, 162],\n",
       "        [169,  81,  72],\n",
       "        [ 88,  67, 183],\n",
       "        [  8,  57, 118],\n",
       "        [ 81,   7, 153],\n",
       "        [109, 206, 155],\n",
       "        [ 98,  29,  69],\n",
       "        [129, 162, 137],\n",
       "        [151,  23, 104],\n",
       "        [ 82,  91,  70],\n",
       "        [149, 203, 174],\n",
       "        [ 31, 113, 135],\n",
       "        [141, 131, 110],\n",
       "        [165, 112,  27],\n",
       "        [ 20,  84, 189],\n",
       "        [  1, 156,  59],\n",
       "        [170,   8,  47],\n",
       "        [ 54, 101,  26],\n",
       "        [212, 140,  58],\n",
       "        [110, 149, 184],\n",
       "        [111,  92,  34],\n",
       "        [ 98, 169, 167],\n",
       "        [ 91, 185, 128]], dtype=int64)>,\n",
       " <tf.Tensor: shape=(224, 3), dtype=int64, numpy=\n",
       " array([[ 18, 177, 115],\n",
       "        [ 94,  24,  47],\n",
       "        [ 44,  88,  56],\n",
       "        [160, 193,  68],\n",
       "        [119, 156,  86],\n",
       "        [ 56, 115,  89],\n",
       "        [216,  94,  98],\n",
       "        [107, 167, 167],\n",
       "        [ 14,  34, 149],\n",
       "        [174,  55,  25],\n",
       "        [ 35, 212,   9],\n",
       "        [ 58, 138,  60],\n",
       "        [187,  29,  96],\n",
       "        [134, 136, 223],\n",
       "        [197,  28, 197],\n",
       "        [176, 139, 106],\n",
       "        [ 59,  46, 128],\n",
       "        [ 63,  33,  67],\n",
       "        [111,  92, 159],\n",
       "        [ 53, 175, 184],\n",
       "        [ 82,  52,  77],\n",
       "        [ 84,   5, 117],\n",
       "        [ 40,  13,  29],\n",
       "        [143,  37,  71],\n",
       "        [125, 208, 213],\n",
       "        [ 60, 148, 140],\n",
       "        [194, 159, 220],\n",
       "        [ 33, 135,  33],\n",
       "        [131, 162,   7],\n",
       "        [ 42, 116,  39],\n",
       "        [  5, 158, 197],\n",
       "        [ 82, 167,  10],\n",
       "        [128, 102, 183],\n",
       "        [ 92, 214,  51],\n",
       "        [ 89, 111,  41],\n",
       "        [134, 203, 221],\n",
       "        [202, 145,   0],\n",
       "        [191, 198, 111],\n",
       "        [202, 171, 221],\n",
       "        [  4, 201, 207],\n",
       "        [  7,  62,  75],\n",
       "        [ 22, 219, 177],\n",
       "        [209, 132, 197],\n",
       "        [ 97, 195, 210],\n",
       "        [117,  56,  32],\n",
       "        [208, 180, 168],\n",
       "        [222,  61, 166],\n",
       "        [176, 110,  29],\n",
       "        [ 65, 121, 178],\n",
       "        [137,  53, 119],\n",
       "        [129,   0, 144],\n",
       "        [112, 151, 185],\n",
       "        [134,  75, 167],\n",
       "        [ 69,  97, 110],\n",
       "        [ 42,  69, 140],\n",
       "        [ 17, 202,  18],\n",
       "        [  7, 105,  73],\n",
       "        [139,  28, 114],\n",
       "        [152,   7, 174],\n",
       "        [198, 204, 155],\n",
       "        [109,  27,  52],\n",
       "        [ 17,   1,  21],\n",
       "        [192,  64, 124],\n",
       "        [113,  35,   2],\n",
       "        [154,  51,  17],\n",
       "        [202,  77, 194],\n",
       "        [ 65, 131,  89],\n",
       "        [115, 114, 160],\n",
       "        [ 52, 159, 196],\n",
       "        [139, 210, 125],\n",
       "        [155, 156, 210],\n",
       "        [222, 200,  18],\n",
       "        [ 44,  73,  82],\n",
       "        [ 62, 176,   2],\n",
       "        [ 40,  93, 206],\n",
       "        [103, 149, 144],\n",
       "        [ 38, 156,  14],\n",
       "        [ 63,   9,  19],\n",
       "        [203, 125, 219],\n",
       "        [181, 139, 120],\n",
       "        [150, 178, 106],\n",
       "        [213, 205, 199],\n",
       "        [ 35,   9, 121],\n",
       "        [ 88,  41,  50],\n",
       "        [104,  68,  53],\n",
       "        [167,  74,   4],\n",
       "        [217, 125,  68],\n",
       "        [ 36, 178, 154],\n",
       "        [ 89,  33, 155],\n",
       "        [187,  36,   9],\n",
       "        [192, 223, 172],\n",
       "        [118, 113, 166],\n",
       "        [  7,  77,  86],\n",
       "        [196, 186, 221],\n",
       "        [ 66, 215,  13],\n",
       "        [ 37,   8,  68],\n",
       "        [  6, 158,  75],\n",
       "        [215, 114, 106],\n",
       "        [114,  97,  42],\n",
       "        [218,  82,  10],\n",
       "        [ 28, 208, 132],\n",
       "        [194, 208, 209],\n",
       "        [ 64, 125,  78],\n",
       "        [  9, 210, 208],\n",
       "        [220,  61,  41],\n",
       "        [189, 127,  40],\n",
       "        [  4, 116,  95],\n",
       "        [ 65,   6, 192],\n",
       "        [106,   4, 120],\n",
       "        [197, 185,  28],\n",
       "        [ 83,  41, 140],\n",
       "        [110, 199, 220],\n",
       "        [108, 165,  50],\n",
       "        [ 70, 137, 145],\n",
       "        [ 48,  43, 177],\n",
       "        [110,   7, 207],\n",
       "        [194, 174,  18],\n",
       "        [179,  67, 216],\n",
       "        [ 91, 122, 165],\n",
       "        [171,  67,  39],\n",
       "        [ 60,  24, 135],\n",
       "        [ 55, 184,  33],\n",
       "        [ 43, 126,  69],\n",
       "        [172,  23, 196],\n",
       "        [104, 145,  17],\n",
       "        [ 15,  40, 194],\n",
       "        [ 67,  23,   4],\n",
       "        [ 39, 141,  94],\n",
       "        [156, 193,  20],\n",
       "        [  1, 205,  69],\n",
       "        [132,  66, 170],\n",
       "        [150,   7, 211],\n",
       "        [169,  89, 129],\n",
       "        [ 91, 199, 223],\n",
       "        [191, 173,  59],\n",
       "        [122, 136,  41],\n",
       "        [182, 100, 141],\n",
       "        [132, 220, 223],\n",
       "        [215,  63,  31],\n",
       "        [146,  47, 204],\n",
       "        [ 31, 130,  17],\n",
       "        [157,  63,  60],\n",
       "        [  6, 132,  76],\n",
       "        [223, 188,   6],\n",
       "        [204, 193, 119],\n",
       "        [ 63, 108,  54],\n",
       "        [103, 221, 221],\n",
       "        [110,   0, 164],\n",
       "        [ 38, 163,  59],\n",
       "        [  2, 212, 208],\n",
       "        [ 33,  45, 165],\n",
       "        [ 17,  65,  61],\n",
       "        [194, 223,  23],\n",
       "        [176,  25,  25],\n",
       "        [ 78, 193,  32],\n",
       "        [197, 141, 163],\n",
       "        [164, 174, 193],\n",
       "        [130,  31,  55],\n",
       "        [ 20,  97,  30],\n",
       "        [103, 113, 156],\n",
       "        [ 51,  58,  11],\n",
       "        [ 52, 195, 129],\n",
       "        [173, 113, 183],\n",
       "        [ 59,  60,  39],\n",
       "        [162,  31, 145],\n",
       "        [ 76, 139,  29],\n",
       "        [176, 185,  87],\n",
       "        [169, 135, 126],\n",
       "        [ 25,   4, 219],\n",
       "        [158,  74,  68],\n",
       "        [124, 221, 141],\n",
       "        [126,  39,  70],\n",
       "        [ 72, 167,  21],\n",
       "        [169,  79, 161],\n",
       "        [115, 101,  53],\n",
       "        [ 47,  81,  47],\n",
       "        [155, 139,  29],\n",
       "        [  1, 143, 138],\n",
       "        [ 26,  50,  79],\n",
       "        [ 73, 156,  60],\n",
       "        [111,  90,  61],\n",
       "        [140, 209, 144],\n",
       "        [ 84, 103, 210],\n",
       "        [  9,  21,  16],\n",
       "        [ 32, 119,  28],\n",
       "        [ 44, 201,  63],\n",
       "        [152,  25,  30],\n",
       "        [ 73, 189, 170],\n",
       "        [211, 111, 175],\n",
       "        [105, 142, 175],\n",
       "        [ 66,  91,  79],\n",
       "        [ 39,  54,  89],\n",
       "        [ 52,  71,  71],\n",
       "        [182,  43,  49],\n",
       "        [ 29, 142,  89],\n",
       "        [211, 156,  44],\n",
       "        [195, 203,  38],\n",
       "        [153, 207, 112],\n",
       "        [219, 193, 110],\n",
       "        [205,  33, 214],\n",
       "        [ 68, 204,  46],\n",
       "        [157,  16, 204],\n",
       "        [ 27, 193,  14],\n",
       "        [141,  72,  44],\n",
       "        [223, 172, 199],\n",
       "        [  4,  88,  23],\n",
       "        [ 35,  65,  77],\n",
       "        [ 56, 147, 205],\n",
       "        [ 56,  52,  71],\n",
       "        [163,  12,  88],\n",
       "        [158,   1,  61],\n",
       "        [ 98,  28, 111],\n",
       "        [ 33,  33, 188],\n",
       "        [143,  82,  67],\n",
       "        [ 70, 166,  39],\n",
       "        [132, 101,  41],\n",
       "        [138, 178,  33],\n",
       "        [ 42,  47,  14],\n",
       "        [ 10, 166,  62],\n",
       "        [ 45,  54,  24],\n",
       "        [ 16, 113, 114],\n",
       "        [119,  11, 178],\n",
       "        [150, 184, 144],\n",
       "        [188, 197, 204]], dtype=int64)>)"
      ]
     },
     "metadata": {},
     "execution_count": 601
    }
   ],
   "metadata": {}
  },
  {
   "cell_type": "code",
   "execution_count": 602,
   "source": [
    "# 8. shape가 [1, 224, 224, 3]인 임의의 값을 가진 텐서를 만든 다음, shape를 [224, 224, 3]으로 변경하도록 압축합니다.\r\n",
    "my_tensor = tf.constant(np.random.randint(0, 200000, 150528), shape=(1, 224, 224, 3))\r\n",
    "my_tensor.shape"
   ],
   "outputs": [
    {
     "output_type": "execute_result",
     "data": {
      "text/plain": [
       "TensorShape([1, 224, 224, 3])"
      ]
     },
     "metadata": {},
     "execution_count": 602
    }
   ],
   "metadata": {}
  },
  {
   "cell_type": "code",
   "execution_count": 603,
   "source": [
    "my_tensor_squeezed = tf.squeeze(my_tensor)\r\n",
    "my_tensor_squeezed.shape"
   ],
   "outputs": [
    {
     "output_type": "execute_result",
     "data": {
      "text/plain": [
       "TensorShape([224, 224, 3])"
      ]
     },
     "metadata": {},
     "execution_count": 603
    }
   ],
   "metadata": {}
  },
  {
   "cell_type": "code",
   "execution_count": 605,
   "source": [
    "# 9. 자신이 선택한 값을 사용하여 shape가 [10]인 텐서를 만든 다음 최대값을 갖는 인덱스를 찾습니다.\r\n",
    "my_tensor = tf.constant(np.random.randint(0, 100, 10))\r\n",
    "my_tensor.shape, my_tensor"
   ],
   "outputs": [
    {
     "output_type": "execute_result",
     "data": {
      "text/plain": [
       "(TensorShape([10]),\n",
       " <tf.Tensor: shape=(10,), dtype=int32, numpy=array([31, 14, 48, 40, 73, 57, 75, 83, 83, 98])>)"
      ]
     },
     "metadata": {},
     "execution_count": 605
    }
   ],
   "metadata": {}
  },
  {
   "cell_type": "code",
   "execution_count": 610,
   "source": [
    "tf.reduce_max(my_tensor).numpy(), tf.reduce_min(my_tensor).numpy()"
   ],
   "outputs": [
    {
     "output_type": "execute_result",
     "data": {
      "text/plain": [
       "(98, 14)"
      ]
     },
     "metadata": {},
     "execution_count": 610
    }
   ],
   "metadata": {}
  },
  {
   "cell_type": "code",
   "execution_count": 611,
   "source": [
    "tf.argmax(my_tensor).numpy(), tf.argmin(my_tensor).numpy() "
   ],
   "outputs": [
    {
     "output_type": "execute_result",
     "data": {
      "text/plain": [
       "(9, 1)"
      ]
     },
     "metadata": {},
     "execution_count": 611
    }
   ],
   "metadata": {}
  },
  {
   "cell_type": "code",
   "execution_count": 612,
   "source": [
    "my_tensor[tf.argmax(my_tensor)].numpy(), my_tensor[tf.argmin(my_tensor)].numpy()"
   ],
   "outputs": [
    {
     "output_type": "execute_result",
     "data": {
      "text/plain": [
       "(98, 14)"
      ]
     },
     "metadata": {},
     "execution_count": 612
    }
   ],
   "metadata": {}
  },
  {
   "cell_type": "code",
   "execution_count": 618,
   "source": [
    "# 10. 9에서 생성한 텐서를 One-hot encoding합니다.\r\n",
    "tf.one_hot(my_tensor, depth=100)"
   ],
   "outputs": [
    {
     "output_type": "execute_result",
     "data": {
      "text/plain": [
       "<tf.Tensor: shape=(10, 100), dtype=float32, numpy=\n",
       "array([[0., 0., 0., 0., 0., 0., 0., 0., 0., 0., 0., 0., 0., 0., 0., 0.,\n",
       "        0., 0., 0., 0., 0., 0., 0., 0., 0., 0., 0., 0., 0., 0., 0., 1.,\n",
       "        0., 0., 0., 0., 0., 0., 0., 0., 0., 0., 0., 0., 0., 0., 0., 0.,\n",
       "        0., 0., 0., 0., 0., 0., 0., 0., 0., 0., 0., 0., 0., 0., 0., 0.,\n",
       "        0., 0., 0., 0., 0., 0., 0., 0., 0., 0., 0., 0., 0., 0., 0., 0.,\n",
       "        0., 0., 0., 0., 0., 0., 0., 0., 0., 0., 0., 0., 0., 0., 0., 0.,\n",
       "        0., 0., 0., 0.],\n",
       "       [0., 0., 0., 0., 0., 0., 0., 0., 0., 0., 0., 0., 0., 0., 1., 0.,\n",
       "        0., 0., 0., 0., 0., 0., 0., 0., 0., 0., 0., 0., 0., 0., 0., 0.,\n",
       "        0., 0., 0., 0., 0., 0., 0., 0., 0., 0., 0., 0., 0., 0., 0., 0.,\n",
       "        0., 0., 0., 0., 0., 0., 0., 0., 0., 0., 0., 0., 0., 0., 0., 0.,\n",
       "        0., 0., 0., 0., 0., 0., 0., 0., 0., 0., 0., 0., 0., 0., 0., 0.,\n",
       "        0., 0., 0., 0., 0., 0., 0., 0., 0., 0., 0., 0., 0., 0., 0., 0.,\n",
       "        0., 0., 0., 0.],\n",
       "       [0., 0., 0., 0., 0., 0., 0., 0., 0., 0., 0., 0., 0., 0., 0., 0.,\n",
       "        0., 0., 0., 0., 0., 0., 0., 0., 0., 0., 0., 0., 0., 0., 0., 0.,\n",
       "        0., 0., 0., 0., 0., 0., 0., 0., 0., 0., 0., 0., 0., 0., 0., 0.,\n",
       "        1., 0., 0., 0., 0., 0., 0., 0., 0., 0., 0., 0., 0., 0., 0., 0.,\n",
       "        0., 0., 0., 0., 0., 0., 0., 0., 0., 0., 0., 0., 0., 0., 0., 0.,\n",
       "        0., 0., 0., 0., 0., 0., 0., 0., 0., 0., 0., 0., 0., 0., 0., 0.,\n",
       "        0., 0., 0., 0.],\n",
       "       [0., 0., 0., 0., 0., 0., 0., 0., 0., 0., 0., 0., 0., 0., 0., 0.,\n",
       "        0., 0., 0., 0., 0., 0., 0., 0., 0., 0., 0., 0., 0., 0., 0., 0.,\n",
       "        0., 0., 0., 0., 0., 0., 0., 0., 1., 0., 0., 0., 0., 0., 0., 0.,\n",
       "        0., 0., 0., 0., 0., 0., 0., 0., 0., 0., 0., 0., 0., 0., 0., 0.,\n",
       "        0., 0., 0., 0., 0., 0., 0., 0., 0., 0., 0., 0., 0., 0., 0., 0.,\n",
       "        0., 0., 0., 0., 0., 0., 0., 0., 0., 0., 0., 0., 0., 0., 0., 0.,\n",
       "        0., 0., 0., 0.],\n",
       "       [0., 0., 0., 0., 0., 0., 0., 0., 0., 0., 0., 0., 0., 0., 0., 0.,\n",
       "        0., 0., 0., 0., 0., 0., 0., 0., 0., 0., 0., 0., 0., 0., 0., 0.,\n",
       "        0., 0., 0., 0., 0., 0., 0., 0., 0., 0., 0., 0., 0., 0., 0., 0.,\n",
       "        0., 0., 0., 0., 0., 0., 0., 0., 0., 0., 0., 0., 0., 0., 0., 0.,\n",
       "        0., 0., 0., 0., 0., 0., 0., 0., 0., 1., 0., 0., 0., 0., 0., 0.,\n",
       "        0., 0., 0., 0., 0., 0., 0., 0., 0., 0., 0., 0., 0., 0., 0., 0.,\n",
       "        0., 0., 0., 0.],\n",
       "       [0., 0., 0., 0., 0., 0., 0., 0., 0., 0., 0., 0., 0., 0., 0., 0.,\n",
       "        0., 0., 0., 0., 0., 0., 0., 0., 0., 0., 0., 0., 0., 0., 0., 0.,\n",
       "        0., 0., 0., 0., 0., 0., 0., 0., 0., 0., 0., 0., 0., 0., 0., 0.,\n",
       "        0., 0., 0., 0., 0., 0., 0., 0., 0., 1., 0., 0., 0., 0., 0., 0.,\n",
       "        0., 0., 0., 0., 0., 0., 0., 0., 0., 0., 0., 0., 0., 0., 0., 0.,\n",
       "        0., 0., 0., 0., 0., 0., 0., 0., 0., 0., 0., 0., 0., 0., 0., 0.,\n",
       "        0., 0., 0., 0.],\n",
       "       [0., 0., 0., 0., 0., 0., 0., 0., 0., 0., 0., 0., 0., 0., 0., 0.,\n",
       "        0., 0., 0., 0., 0., 0., 0., 0., 0., 0., 0., 0., 0., 0., 0., 0.,\n",
       "        0., 0., 0., 0., 0., 0., 0., 0., 0., 0., 0., 0., 0., 0., 0., 0.,\n",
       "        0., 0., 0., 0., 0., 0., 0., 0., 0., 0., 0., 0., 0., 0., 0., 0.,\n",
       "        0., 0., 0., 0., 0., 0., 0., 0., 0., 0., 0., 1., 0., 0., 0., 0.,\n",
       "        0., 0., 0., 0., 0., 0., 0., 0., 0., 0., 0., 0., 0., 0., 0., 0.,\n",
       "        0., 0., 0., 0.],\n",
       "       [0., 0., 0., 0., 0., 0., 0., 0., 0., 0., 0., 0., 0., 0., 0., 0.,\n",
       "        0., 0., 0., 0., 0., 0., 0., 0., 0., 0., 0., 0., 0., 0., 0., 0.,\n",
       "        0., 0., 0., 0., 0., 0., 0., 0., 0., 0., 0., 0., 0., 0., 0., 0.,\n",
       "        0., 0., 0., 0., 0., 0., 0., 0., 0., 0., 0., 0., 0., 0., 0., 0.,\n",
       "        0., 0., 0., 0., 0., 0., 0., 0., 0., 0., 0., 0., 0., 0., 0., 0.,\n",
       "        0., 0., 0., 1., 0., 0., 0., 0., 0., 0., 0., 0., 0., 0., 0., 0.,\n",
       "        0., 0., 0., 0.],\n",
       "       [0., 0., 0., 0., 0., 0., 0., 0., 0., 0., 0., 0., 0., 0., 0., 0.,\n",
       "        0., 0., 0., 0., 0., 0., 0., 0., 0., 0., 0., 0., 0., 0., 0., 0.,\n",
       "        0., 0., 0., 0., 0., 0., 0., 0., 0., 0., 0., 0., 0., 0., 0., 0.,\n",
       "        0., 0., 0., 0., 0., 0., 0., 0., 0., 0., 0., 0., 0., 0., 0., 0.,\n",
       "        0., 0., 0., 0., 0., 0., 0., 0., 0., 0., 0., 0., 0., 0., 0., 0.,\n",
       "        0., 0., 0., 1., 0., 0., 0., 0., 0., 0., 0., 0., 0., 0., 0., 0.,\n",
       "        0., 0., 0., 0.],\n",
       "       [0., 0., 0., 0., 0., 0., 0., 0., 0., 0., 0., 0., 0., 0., 0., 0.,\n",
       "        0., 0., 0., 0., 0., 0., 0., 0., 0., 0., 0., 0., 0., 0., 0., 0.,\n",
       "        0., 0., 0., 0., 0., 0., 0., 0., 0., 0., 0., 0., 0., 0., 0., 0.,\n",
       "        0., 0., 0., 0., 0., 0., 0., 0., 0., 0., 0., 0., 0., 0., 0., 0.,\n",
       "        0., 0., 0., 0., 0., 0., 0., 0., 0., 0., 0., 0., 0., 0., 0., 0.,\n",
       "        0., 0., 0., 0., 0., 0., 0., 0., 0., 0., 0., 0., 0., 0., 0., 0.,\n",
       "        0., 0., 1., 0.]], dtype=float32)>"
      ]
     },
     "metadata": {},
     "execution_count": 618
    }
   ],
   "metadata": {}
  },
  {
   "cell_type": "code",
   "execution_count": 617,
   "source": [
    "tf.one_hot(my_tensor, depth=10, on_value=\"On\", off_value=\"Off\")"
   ],
   "outputs": [
    {
     "output_type": "execute_result",
     "data": {
      "text/plain": [
       "<tf.Tensor: shape=(10, 10), dtype=string, numpy=\n",
       "array([[b'Off', b'Off', b'Off', b'Off', b'Off', b'Off', b'Off', b'Off',\n",
       "        b'Off', b'Off'],\n",
       "       [b'Off', b'Off', b'Off', b'Off', b'Off', b'Off', b'Off', b'Off',\n",
       "        b'Off', b'Off'],\n",
       "       [b'Off', b'Off', b'Off', b'Off', b'Off', b'Off', b'Off', b'Off',\n",
       "        b'Off', b'Off'],\n",
       "       [b'Off', b'Off', b'Off', b'Off', b'Off', b'Off', b'Off', b'Off',\n",
       "        b'Off', b'Off'],\n",
       "       [b'Off', b'Off', b'Off', b'Off', b'Off', b'Off', b'Off', b'Off',\n",
       "        b'Off', b'Off'],\n",
       "       [b'Off', b'Off', b'Off', b'Off', b'Off', b'Off', b'Off', b'Off',\n",
       "        b'Off', b'Off'],\n",
       "       [b'Off', b'Off', b'Off', b'Off', b'Off', b'Off', b'Off', b'Off',\n",
       "        b'Off', b'Off'],\n",
       "       [b'Off', b'Off', b'Off', b'Off', b'Off', b'Off', b'Off', b'Off',\n",
       "        b'Off', b'Off'],\n",
       "       [b'Off', b'Off', b'Off', b'Off', b'Off', b'Off', b'Off', b'Off',\n",
       "        b'Off', b'Off'],\n",
       "       [b'Off', b'Off', b'Off', b'Off', b'Off', b'Off', b'Off', b'Off',\n",
       "        b'Off', b'Off']], dtype=object)>"
      ]
     },
     "metadata": {},
     "execution_count": 617
    }
   ],
   "metadata": {}
  },
  {
   "cell_type": "code",
   "execution_count": null,
   "source": [],
   "outputs": [],
   "metadata": {}
  }
 ],
 "metadata": {
  "orig_nbformat": 4,
  "language_info": {
   "name": "python",
   "version": "3.9.6",
   "mimetype": "text/x-python",
   "codemirror_mode": {
    "name": "ipython",
    "version": 3
   },
   "pygments_lexer": "ipython3",
   "nbconvert_exporter": "python",
   "file_extension": ".py"
  },
  "kernelspec": {
   "name": "python3",
   "display_name": "Python 3.9.6 64-bit ('venv': venv)"
  },
  "interpreter": {
   "hash": "6f1725972fb909c3465f7b599747d17a3bf3d0967665364aa11ce66153952e4a"
  }
 },
 "nbformat": 4,
 "nbformat_minor": 2
}